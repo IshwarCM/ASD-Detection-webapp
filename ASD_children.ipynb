{
 "cells": [
  {
   "cell_type": "code",
   "execution_count": 136,
   "id": "a6bdc505-8420-4646-9765-739766d0a509",
   "metadata": {},
   "outputs": [],
   "source": [
    "import pandas as pd\n",
    "import numpy as np\n",
    "import seaborn as sns\n",
    "import matplotlib.pyplot as plt\n",
    "import plotly.express as px\n",
    "from plotly.subplots import make_subplots\n",
    "import plotly.graph_objects as go\n",
    "from sklearn.impute import SimpleImputer\n",
    "import warnings\n",
    "warnings.filterwarnings('ignore')"
   ]
  },
  {
   "cell_type": "code",
   "execution_count": 137,
   "id": "46dc99c7-3e56-4e52-bf29-e0169ebfcd2f",
   "metadata": {},
   "outputs": [],
   "source": [
    "data=pd.read_csv(\"C:/Users/ishwa/OneDrive/Desktop/Project/Autism-Child-Data.csv\",na_values=['?'])"
   ]
  },
  {
   "cell_type": "code",
   "execution_count": 138,
   "id": "569d96e6-f224-46a0-988f-76b0d944c2fd",
   "metadata": {},
   "outputs": [
    {
     "data": {
      "text/plain": [
       "Index(['A1_Score', 'A2_Score', 'A3_Score', 'A4_Score', 'A5_Score', 'A6_Score',\n",
       "       'A7_Score', 'A8_Score', 'A9_Score', 'A10_Score', 'age', 'gender',\n",
       "       'ethnicity', 'jundice', 'austim', 'contry_of_res', 'used_app_before',\n",
       "       'result', 'age_desc', 'relation', 'Class/ASD'],\n",
       "      dtype='object')"
      ]
     },
     "execution_count": 138,
     "metadata": {},
     "output_type": "execute_result"
    }
   ],
   "source": [
    "data.columns"
   ]
  },
  {
   "cell_type": "code",
   "execution_count": 139,
   "id": "893776ab-136c-40f6-95a6-255d8aea2373",
   "metadata": {},
   "outputs": [],
   "source": [
    "data = data.drop(columns= ['age_desc','used_app_before'])"
   ]
  },
  {
   "cell_type": "code",
   "execution_count": 140,
   "id": "bcde1882-e8eb-4042-9a83-a790aeb36cee",
   "metadata": {},
   "outputs": [
    {
     "data": {
      "text/plain": [
       "Index(['A1_Score', 'A2_Score', 'A3_Score', 'A4_Score', 'A5_Score', 'A6_Score',\n",
       "       'A7_Score', 'A8_Score', 'A9_Score', 'A10_Score', 'age', 'gender',\n",
       "       'ethnicity', 'jundice', 'austim', 'contry_of_res', 'result', 'relation',\n",
       "       'Class/ASD'],\n",
       "      dtype='object')"
      ]
     },
     "execution_count": 140,
     "metadata": {},
     "output_type": "execute_result"
    }
   ],
   "source": [
    "data.columns"
   ]
  },
  {
   "cell_type": "code",
   "execution_count": 141,
   "id": "16103149-03e2-4da6-a6db-03414c53cd1c",
   "metadata": {},
   "outputs": [
    {
     "name": "stdout",
     "output_type": "stream",
     "text": [
      "<class 'pandas.core.frame.DataFrame'>\n",
      "RangeIndex: 292 entries, 0 to 291\n",
      "Data columns (total 19 columns):\n",
      " #   Column         Non-Null Count  Dtype  \n",
      "---  ------         --------------  -----  \n",
      " 0   A1_Score       292 non-null    int64  \n",
      " 1   A2_Score       292 non-null    int64  \n",
      " 2   A3_Score       292 non-null    int64  \n",
      " 3   A4_Score       292 non-null    int64  \n",
      " 4   A5_Score       292 non-null    int64  \n",
      " 5   A6_Score       292 non-null    int64  \n",
      " 6   A7_Score       292 non-null    int64  \n",
      " 7   A8_Score       292 non-null    int64  \n",
      " 8   A9_Score       292 non-null    int64  \n",
      " 9   A10_Score      292 non-null    int64  \n",
      " 10  age            288 non-null    float64\n",
      " 11  gender         292 non-null    object \n",
      " 12  ethnicity      249 non-null    object \n",
      " 13  jundice        292 non-null    object \n",
      " 14  austim         292 non-null    object \n",
      " 15  contry_of_res  292 non-null    object \n",
      " 16  result         292 non-null    float64\n",
      " 17  relation       249 non-null    object \n",
      " 18  Class/ASD      292 non-null    object \n",
      "dtypes: float64(2), int64(10), object(7)\n",
      "memory usage: 43.5+ KB\n"
     ]
    }
   ],
   "source": [
    "data.info()"
   ]
  },
  {
   "cell_type": "code",
   "execution_count": 142,
   "id": "301d4b74-b2d2-4fee-91cc-91f1afc29188",
   "metadata": {},
   "outputs": [
    {
     "data": {
      "text/plain": [
       "(292, 19)"
      ]
     },
     "execution_count": 142,
     "metadata": {},
     "output_type": "execute_result"
    }
   ],
   "source": [
    "data.shape"
   ]
  },
  {
   "cell_type": "code",
   "execution_count": 143,
   "id": "ef94edb8-9ef2-442e-b162-91be3f8c701f",
   "metadata": {},
   "outputs": [
    {
     "data": {
      "text/html": [
       "<div>\n",
       "<style scoped>\n",
       "    .dataframe tbody tr th:only-of-type {\n",
       "        vertical-align: middle;\n",
       "    }\n",
       "\n",
       "    .dataframe tbody tr th {\n",
       "        vertical-align: top;\n",
       "    }\n",
       "\n",
       "    .dataframe thead th {\n",
       "        text-align: right;\n",
       "    }\n",
       "</style>\n",
       "<table border=\"1\" class=\"dataframe\">\n",
       "  <thead>\n",
       "    <tr style=\"text-align: right;\">\n",
       "      <th></th>\n",
       "      <th>A1_Score</th>\n",
       "      <th>A2_Score</th>\n",
       "      <th>A3_Score</th>\n",
       "      <th>A4_Score</th>\n",
       "      <th>A5_Score</th>\n",
       "      <th>A6_Score</th>\n",
       "      <th>A7_Score</th>\n",
       "      <th>A8_Score</th>\n",
       "      <th>A9_Score</th>\n",
       "      <th>A10_Score</th>\n",
       "      <th>age</th>\n",
       "      <th>result</th>\n",
       "    </tr>\n",
       "  </thead>\n",
       "  <tbody>\n",
       "    <tr>\n",
       "      <th>count</th>\n",
       "      <td>292.000000</td>\n",
       "      <td>292.000000</td>\n",
       "      <td>292.000000</td>\n",
       "      <td>292.000000</td>\n",
       "      <td>292.000000</td>\n",
       "      <td>292.000000</td>\n",
       "      <td>292.000000</td>\n",
       "      <td>292.000000</td>\n",
       "      <td>292.000000</td>\n",
       "      <td>292.000000</td>\n",
       "      <td>288.000000</td>\n",
       "      <td>292.000000</td>\n",
       "    </tr>\n",
       "    <tr>\n",
       "      <th>mean</th>\n",
       "      <td>0.633562</td>\n",
       "      <td>0.534247</td>\n",
       "      <td>0.743151</td>\n",
       "      <td>0.551370</td>\n",
       "      <td>0.743151</td>\n",
       "      <td>0.712329</td>\n",
       "      <td>0.606164</td>\n",
       "      <td>0.496575</td>\n",
       "      <td>0.493151</td>\n",
       "      <td>0.726027</td>\n",
       "      <td>6.354167</td>\n",
       "      <td>6.239726</td>\n",
       "    </tr>\n",
       "    <tr>\n",
       "      <th>std</th>\n",
       "      <td>0.482658</td>\n",
       "      <td>0.499682</td>\n",
       "      <td>0.437646</td>\n",
       "      <td>0.498208</td>\n",
       "      <td>0.437646</td>\n",
       "      <td>0.453454</td>\n",
       "      <td>0.489438</td>\n",
       "      <td>0.500847</td>\n",
       "      <td>0.500811</td>\n",
       "      <td>0.446761</td>\n",
       "      <td>2.365456</td>\n",
       "      <td>2.284882</td>\n",
       "    </tr>\n",
       "    <tr>\n",
       "      <th>min</th>\n",
       "      <td>0.000000</td>\n",
       "      <td>0.000000</td>\n",
       "      <td>0.000000</td>\n",
       "      <td>0.000000</td>\n",
       "      <td>0.000000</td>\n",
       "      <td>0.000000</td>\n",
       "      <td>0.000000</td>\n",
       "      <td>0.000000</td>\n",
       "      <td>0.000000</td>\n",
       "      <td>0.000000</td>\n",
       "      <td>4.000000</td>\n",
       "      <td>0.000000</td>\n",
       "    </tr>\n",
       "    <tr>\n",
       "      <th>25%</th>\n",
       "      <td>0.000000</td>\n",
       "      <td>0.000000</td>\n",
       "      <td>0.000000</td>\n",
       "      <td>0.000000</td>\n",
       "      <td>0.000000</td>\n",
       "      <td>0.000000</td>\n",
       "      <td>0.000000</td>\n",
       "      <td>0.000000</td>\n",
       "      <td>0.000000</td>\n",
       "      <td>0.000000</td>\n",
       "      <td>4.000000</td>\n",
       "      <td>5.000000</td>\n",
       "    </tr>\n",
       "    <tr>\n",
       "      <th>50%</th>\n",
       "      <td>1.000000</td>\n",
       "      <td>1.000000</td>\n",
       "      <td>1.000000</td>\n",
       "      <td>1.000000</td>\n",
       "      <td>1.000000</td>\n",
       "      <td>1.000000</td>\n",
       "      <td>1.000000</td>\n",
       "      <td>0.000000</td>\n",
       "      <td>0.000000</td>\n",
       "      <td>1.000000</td>\n",
       "      <td>6.000000</td>\n",
       "      <td>6.000000</td>\n",
       "    </tr>\n",
       "    <tr>\n",
       "      <th>75%</th>\n",
       "      <td>1.000000</td>\n",
       "      <td>1.000000</td>\n",
       "      <td>1.000000</td>\n",
       "      <td>1.000000</td>\n",
       "      <td>1.000000</td>\n",
       "      <td>1.000000</td>\n",
       "      <td>1.000000</td>\n",
       "      <td>1.000000</td>\n",
       "      <td>1.000000</td>\n",
       "      <td>1.000000</td>\n",
       "      <td>8.000000</td>\n",
       "      <td>8.000000</td>\n",
       "    </tr>\n",
       "    <tr>\n",
       "      <th>max</th>\n",
       "      <td>1.000000</td>\n",
       "      <td>1.000000</td>\n",
       "      <td>1.000000</td>\n",
       "      <td>1.000000</td>\n",
       "      <td>1.000000</td>\n",
       "      <td>1.000000</td>\n",
       "      <td>1.000000</td>\n",
       "      <td>1.000000</td>\n",
       "      <td>1.000000</td>\n",
       "      <td>1.000000</td>\n",
       "      <td>11.000000</td>\n",
       "      <td>10.000000</td>\n",
       "    </tr>\n",
       "  </tbody>\n",
       "</table>\n",
       "</div>"
      ],
      "text/plain": [
       "         A1_Score    A2_Score    A3_Score    A4_Score    A5_Score    A6_Score  \\\n",
       "count  292.000000  292.000000  292.000000  292.000000  292.000000  292.000000   \n",
       "mean     0.633562    0.534247    0.743151    0.551370    0.743151    0.712329   \n",
       "std      0.482658    0.499682    0.437646    0.498208    0.437646    0.453454   \n",
       "min      0.000000    0.000000    0.000000    0.000000    0.000000    0.000000   \n",
       "25%      0.000000    0.000000    0.000000    0.000000    0.000000    0.000000   \n",
       "50%      1.000000    1.000000    1.000000    1.000000    1.000000    1.000000   \n",
       "75%      1.000000    1.000000    1.000000    1.000000    1.000000    1.000000   \n",
       "max      1.000000    1.000000    1.000000    1.000000    1.000000    1.000000   \n",
       "\n",
       "         A7_Score    A8_Score    A9_Score   A10_Score         age      result  \n",
       "count  292.000000  292.000000  292.000000  292.000000  288.000000  292.000000  \n",
       "mean     0.606164    0.496575    0.493151    0.726027    6.354167    6.239726  \n",
       "std      0.489438    0.500847    0.500811    0.446761    2.365456    2.284882  \n",
       "min      0.000000    0.000000    0.000000    0.000000    4.000000    0.000000  \n",
       "25%      0.000000    0.000000    0.000000    0.000000    4.000000    5.000000  \n",
       "50%      1.000000    0.000000    0.000000    1.000000    6.000000    6.000000  \n",
       "75%      1.000000    1.000000    1.000000    1.000000    8.000000    8.000000  \n",
       "max      1.000000    1.000000    1.000000    1.000000   11.000000   10.000000  "
      ]
     },
     "execution_count": 143,
     "metadata": {},
     "output_type": "execute_result"
    }
   ],
   "source": [
    "data.describe()"
   ]
  },
  {
   "cell_type": "code",
   "execution_count": 144,
   "id": "ce7ff808-50a7-49f3-a099-fe030e6c50f0",
   "metadata": {},
   "outputs": [
    {
     "name": "stdout",
     "output_type": "stream",
     "text": [
      "Total no. of missing values in Children's dataset     :  90\n"
     ]
    }
   ],
   "source": [
    "print(\"Total no. of missing values in Children's dataset     : \",data.isnull().sum().sum())"
   ]
  },
  {
   "cell_type": "code",
   "execution_count": 145,
   "id": "5e622435-c437-42b6-8f2c-d7460571595c",
   "metadata": {},
   "outputs": [
    {
     "data": {
      "text/plain": [
       "A1_Score          0\n",
       "A2_Score          0\n",
       "A3_Score          0\n",
       "A4_Score          0\n",
       "A5_Score          0\n",
       "A6_Score          0\n",
       "A7_Score          0\n",
       "A8_Score          0\n",
       "A9_Score          0\n",
       "A10_Score         0\n",
       "age               4\n",
       "gender            0\n",
       "ethnicity        43\n",
       "jundice           0\n",
       "austim            0\n",
       "contry_of_res     0\n",
       "result            0\n",
       "relation         43\n",
       "Class/ASD         0\n",
       "dtype: int64"
      ]
     },
     "execution_count": 145,
     "metadata": {},
     "output_type": "execute_result"
    }
   ],
   "source": [
    "data.isnull().sum()"
   ]
  },
  {
   "cell_type": "code",
   "execution_count": 146,
   "id": "2a242ab1-1b2b-4d0a-85b3-d56ac35fd227",
   "metadata": {},
   "outputs": [
    {
     "data": {
      "image/png": "[encoded data removed]",
      "text/plain": [
       "<Figure size 550x500 with 1 Axes>"
      ]
     },
     "metadata": {},
     "output_type": "display_data"
    }
   ],
   "source": [
    "fig, ax = plt.subplots(figsize=(5.5,5))\n",
    "\n",
    "sns.heatmap(data.isnull(),yticklabels=False,cbar=False,cmap='rocket',ax=ax)\n",
    "ax.set_title(\"Children's dataset\",fontsize = 15)\n",
    "fig.tight_layout()\n",
    "plt.savefig('heatmap_data.pdf', transparent=True, dpi=300)"
   ]
  },
  {
   "cell_type": "code",
   "execution_count": 147,
   "id": "c3ae843f-fdc0-4e69-a6b2-7a85e7510521",
   "metadata": {},
   "outputs": [
    {
     "name": "stdout",
     "output_type": "stream",
     "text": [
      "No of Childrens diagonised with ASD =  141\n",
      "No of Childrens not diagonised with ASD =  151\n"
     ]
    }
   ],
   "source": [
    "print(\"No of Childrens diagonised with ASD = \",len(data[data['Class/ASD'] == 'YES']))\n",
    "print(\"No of Childrens not diagonised with ASD = \",len(data[data['Class/ASD'] == 'NO']))"
   ]
  },
  {
   "cell_type": "code",
   "execution_count": 148,
   "id": "7f487c2d-8f67-47b5-a4f9-f1ec475b3c95",
   "metadata": {},
   "outputs": [],
   "source": [
    "# #Data distribution\n",
    "# fig, ax = plt.subplots(figsize=(5, 5))\n",
    "# sns.countplot(data['Class/ASD'],ax=ax)\n",
    "# ax.set_title(\"Children's dataset\",fontsize = 15)\n",
    "# fig.tight_layout()"
   ]
  },
  {
   "cell_type": "code",
   "execution_count": 149,
   "id": "c18f47e1-6b06-4a80-ba6e-c8a1ce55681e",
   "metadata": {},
   "outputs": [],
   "source": [
    "# #Correlation\n",
    "# fig, ax = plt.subplots(figsize=(10,7))\n",
    "# sns.heatmap(data.corr(),annot=True,cmap='coolwarm',vmin=0, vmax=1,ax=ax)\n",
    "# ax.set_title(\"Children's dataset\",fontsize = 15)\n",
    "# fig.tight_layout()"
   ]
  },
  {
   "cell_type": "code",
   "execution_count": 150,
   "id": "e871d6a6-a1bc-4b0b-8d32-d090fe8817de",
   "metadata": {},
   "outputs": [
    {
     "name": "stdout",
     "output_type": "stream",
     "text": [
      "No of missing values in Children's dataset    =  90\n"
     ]
    }
   ],
   "source": [
    "#Number of missing values in each dataset\n",
    "print(\"No of missing values in Children's dataset    = \",data.isnull().sum().sum())"
   ]
  },
  {
   "cell_type": "code",
   "execution_count": 151,
   "id": "7169ecdf-5998-4866-ac57-a2653ad24b4c",
   "metadata": {},
   "outputs": [],
   "source": [
    "#Imputing missing values of categorical features with mode\n",
    "imputer_mode = SimpleImputer(missing_values=np.NaN, strategy='most_frequent')\n",
    "\n",
    "data.age = imputer_mode.fit_transform(data.age.values.reshape(-1,1))[:,0]\n",
    "data.ethnicity = imputer_mode.fit_transform(data.ethnicity.values.reshape(-1,1))[:,0]\n",
    "data.relation = imputer_mode.fit_transform(data.relation.values.reshape(-1,1))[:,0]\n",
    "\n",
    "#Imputing missing values of numerical features with mean\n",
    "imputer_mode = SimpleImputer(missing_values=np.NaN, strategy='mean')\n",
    "\n",
    "data.age = imputer_mode.fit_transform(data.age.values.reshape(-1,1))[:,0]"
   ]
  },
  {
   "cell_type": "code",
   "execution_count": 152,
   "id": "825f9abf-7aac-41c3-a1ea-6c1e267df60d",
   "metadata": {},
   "outputs": [
    {
     "name": "stdout",
     "output_type": "stream",
     "text": [
      "After imputing,\n",
      "No of missing values in Children's dataset    =  0\n"
     ]
    }
   ],
   "source": [
    "print(\"After imputing,\\nNo of missing values in Children's dataset    = \",data.isnull().sum().sum())"
   ]
  },
  {
   "cell_type": "code",
   "execution_count": 153,
   "id": "f7bfc132-5da7-436f-af77-fd28a07af4e2",
   "metadata": {},
   "outputs": [],
   "source": [
    "#Since age of toddlers are represented in months, age(in years) of children, adolescents and adults is converted to age in months.\n",
    "data.rename(columns = {'age':'Age_Mons'}, inplace = True)\n",
    "\n",
    "data['Age_Mons'] = data['Age_Mons']*12"
   ]
  },
  {
   "cell_type": "code",
   "execution_count": 154,
   "id": "ce750855-63b8-44fb-80e1-614370ef5b6b",
   "metadata": {},
   "outputs": [],
   "source": [
    "#Making classes of categorical variables same for all datasets\n",
    "data[\"relation\"] = data[\"relation\"].replace('self','Self')"
   ]
  },
  {
   "cell_type": "markdown",
   "id": "f98a5498-fffe-4c80-846f-55cc2c9a7aac",
   "metadata": {},
   "source": [
    "# Model Splitting"
   ]
  },
  {
   "cell_type": "code",
   "execution_count": 156,
   "id": "46f0e751-449c-4009-9e36-50a254c8f6c7",
   "metadata": {},
   "outputs": [],
   "source": [
    "shuffled_data = data.sample(frac=1,random_state=4)\n",
    "ASD_data = shuffled_data.loc[shuffled_data['Class/ASD'] == 'YES']\n",
    "non_ASD_data = shuffled_data.loc[shuffled_data['Class/ASD'] == 'NO'].sample(n=151)\n",
    "data= pd.concat([ASD_data, non_ASD_data])"
   ]
  },
  {
   "cell_type": "code",
   "execution_count": 157,
   "id": "8f691e0f-f000-4568-a3f8-4ef06c781483",
   "metadata": {},
   "outputs": [],
   "source": [
    "# Split the data into features and target label\n",
    "raw_target= data['Class/ASD']\n",
    "raw_features = data[['A1_Score','A2_Score','A3_Score','A4_Score','A5_Score','A6_Score','A7_Score','A8_Score','A9_Score','A10_Score','Age_Mons', 'gender', 'ethnicity', 'jundice', 'austim', 'contry_of_res', 'result','relation']]"
   ]
  },
  {
   "cell_type": "markdown",
   "id": "22a6a5d6-f18a-4bb6-afd2-83f44240f481",
   "metadata": {},
   "source": [
    "# Feature Scaling"
   ]
  },
  {
   "cell_type": "code",
   "execution_count": 159,
   "id": "874e6fd9-5cd7-4c5e-b6a1-7b91207c3697",
   "metadata": {},
   "outputs": [],
   "source": [
    "from sklearn.preprocessing import MinMaxScaler\n",
    "scaler = MinMaxScaler()\n",
    "num_features = ['Age_Mons', 'result']\n",
    "\n",
    "features_minmax_transform = pd.DataFrame(data = raw_features)\n",
    "features_minmax_transform[num_features] = scaler.fit_transform(raw_features[num_features])"
   ]
  },
  {
   "cell_type": "code",
   "execution_count": 160,
   "id": "2f37e8c1-55d2-4056-8652-94c68ab197e1",
   "metadata": {},
   "outputs": [
    {
     "data": {
      "text/html": [
       "<div>\n",
       "<style scoped>\n",
       "    .dataframe tbody tr th:only-of-type {\n",
       "        vertical-align: middle;\n",
       "    }\n",
       "\n",
       "    .dataframe tbody tr th {\n",
       "        vertical-align: top;\n",
       "    }\n",
       "\n",
       "    .dataframe thead th {\n",
       "        text-align: right;\n",
       "    }\n",
       "</style>\n",
       "<table border=\"1\" class=\"dataframe\">\n",
       "  <thead>\n",
       "    <tr style=\"text-align: right;\">\n",
       "      <th></th>\n",
       "      <th>A1_Score</th>\n",
       "      <th>A2_Score</th>\n",
       "      <th>A3_Score</th>\n",
       "      <th>A4_Score</th>\n",
       "      <th>A5_Score</th>\n",
       "      <th>A6_Score</th>\n",
       "      <th>A7_Score</th>\n",
       "      <th>A8_Score</th>\n",
       "      <th>A9_Score</th>\n",
       "      <th>A10_Score</th>\n",
       "      <th>Age_Mons</th>\n",
       "      <th>gender</th>\n",
       "      <th>ethnicity</th>\n",
       "      <th>jundice</th>\n",
       "      <th>austim</th>\n",
       "      <th>contry_of_res</th>\n",
       "      <th>result</th>\n",
       "      <th>relation</th>\n",
       "    </tr>\n",
       "  </thead>\n",
       "  <tbody>\n",
       "    <tr>\n",
       "      <th>253</th>\n",
       "      <td>1</td>\n",
       "      <td>0</td>\n",
       "      <td>1</td>\n",
       "      <td>1</td>\n",
       "      <td>1</td>\n",
       "      <td>1</td>\n",
       "      <td>1</td>\n",
       "      <td>1</td>\n",
       "      <td>0</td>\n",
       "      <td>1</td>\n",
       "      <td>0.714286</td>\n",
       "      <td>f</td>\n",
       "      <td>Middle Eastern</td>\n",
       "      <td>no</td>\n",
       "      <td>no</td>\n",
       "      <td>Egypt</td>\n",
       "      <td>0.8</td>\n",
       "      <td>Parent</td>\n",
       "    </tr>\n",
       "    <tr>\n",
       "      <th>101</th>\n",
       "      <td>1</td>\n",
       "      <td>1</td>\n",
       "      <td>1</td>\n",
       "      <td>1</td>\n",
       "      <td>0</td>\n",
       "      <td>1</td>\n",
       "      <td>1</td>\n",
       "      <td>0</td>\n",
       "      <td>0</td>\n",
       "      <td>1</td>\n",
       "      <td>0.285714</td>\n",
       "      <td>f</td>\n",
       "      <td>Asian</td>\n",
       "      <td>no</td>\n",
       "      <td>no</td>\n",
       "      <td>Philippines</td>\n",
       "      <td>0.7</td>\n",
       "      <td>Parent</td>\n",
       "    </tr>\n",
       "    <tr>\n",
       "      <th>169</th>\n",
       "      <td>1</td>\n",
       "      <td>0</td>\n",
       "      <td>1</td>\n",
       "      <td>1</td>\n",
       "      <td>1</td>\n",
       "      <td>1</td>\n",
       "      <td>1</td>\n",
       "      <td>1</td>\n",
       "      <td>1</td>\n",
       "      <td>1</td>\n",
       "      <td>1.000000</td>\n",
       "      <td>f</td>\n",
       "      <td>White-European</td>\n",
       "      <td>no</td>\n",
       "      <td>no</td>\n",
       "      <td>Austria</td>\n",
       "      <td>0.9</td>\n",
       "      <td>Parent</td>\n",
       "    </tr>\n",
       "    <tr>\n",
       "      <th>6</th>\n",
       "      <td>1</td>\n",
       "      <td>0</td>\n",
       "      <td>1</td>\n",
       "      <td>1</td>\n",
       "      <td>1</td>\n",
       "      <td>1</td>\n",
       "      <td>0</td>\n",
       "      <td>1</td>\n",
       "      <td>0</td>\n",
       "      <td>1</td>\n",
       "      <td>0.142857</td>\n",
       "      <td>m</td>\n",
       "      <td>White-European</td>\n",
       "      <td>no</td>\n",
       "      <td>no</td>\n",
       "      <td>United Kingdom</td>\n",
       "      <td>0.7</td>\n",
       "      <td>Parent</td>\n",
       "    </tr>\n",
       "    <tr>\n",
       "      <th>233</th>\n",
       "      <td>0</td>\n",
       "      <td>1</td>\n",
       "      <td>1</td>\n",
       "      <td>1</td>\n",
       "      <td>1</td>\n",
       "      <td>1</td>\n",
       "      <td>0</td>\n",
       "      <td>1</td>\n",
       "      <td>1</td>\n",
       "      <td>1</td>\n",
       "      <td>0.142857</td>\n",
       "      <td>m</td>\n",
       "      <td>White-European</td>\n",
       "      <td>no</td>\n",
       "      <td>no</td>\n",
       "      <td>Russia</td>\n",
       "      <td>0.8</td>\n",
       "      <td>Parent</td>\n",
       "    </tr>\n",
       "  </tbody>\n",
       "</table>\n",
       "</div>"
      ],
      "text/plain": [
       "     A1_Score  A2_Score  A3_Score  A4_Score  A5_Score  A6_Score  A7_Score  \\\n",
       "253         1         0         1         1         1         1         1   \n",
       "101         1         1         1         1         0         1         1   \n",
       "169         1         0         1         1         1         1         1   \n",
       "6           1         0         1         1         1         1         0   \n",
       "233         0         1         1         1         1         1         0   \n",
       "\n",
       "     A8_Score  A9_Score  A10_Score  Age_Mons gender        ethnicity jundice  \\\n",
       "253         1         0          1  0.714286      f  Middle Eastern       no   \n",
       "101         0         0          1  0.285714      f            Asian      no   \n",
       "169         1         1          1  1.000000      f   White-European      no   \n",
       "6           1         0          1  0.142857      m   White-European      no   \n",
       "233         1         1          1  0.142857      m   White-European      no   \n",
       "\n",
       "    austim   contry_of_res  result relation  \n",
       "253     no           Egypt     0.8   Parent  \n",
       "101     no     Philippines     0.7   Parent  \n",
       "169     no         Austria     0.9   Parent  \n",
       "6       no  United Kingdom     0.7   Parent  \n",
       "233     no          Russia     0.8   Parent  "
      ]
     },
     "execution_count": 160,
     "metadata": {},
     "output_type": "execute_result"
    }
   ],
   "source": [
    "features_minmax_transform.head()"
   ]
  },
  {
   "cell_type": "code",
   "execution_count": 161,
   "id": "22c36ef1-1af1-443c-9c3e-d1582a059445",
   "metadata": {},
   "outputs": [],
   "source": [
    "# Encoding Categorical Values"
   ]
  },
  {
   "cell_type": "code",
   "execution_count": 162,
   "id": "9dfcf295-69ff-4568-8f6e-f32ff2d8556a",
   "metadata": {},
   "outputs": [],
   "source": [
    "features = pd.get_dummies(features_minmax_transform)"
   ]
  },
  {
   "cell_type": "code",
   "execution_count": 163,
   "id": "5b59779f-bdc7-4f7f-ad6e-f6ed0e3d1a77",
   "metadata": {},
   "outputs": [],
   "source": [
    "from sklearn.preprocessing import LabelEncoder\n",
    "le = LabelEncoder()\n",
    "target = le.fit_transform(raw_target)"
   ]
  },
  {
   "cell_type": "code",
   "execution_count": 164,
   "id": "322de135-3343-419b-b398-784371067da4",
   "metadata": {},
   "outputs": [],
   "source": [
    "X = features\n",
    "y = target"
   ]
  },
  {
   "cell_type": "markdown",
   "id": "270623ae-dc79-4150-a4da-69de41f1c2e3",
   "metadata": {},
   "source": [
    "# Feature Selection"
   ]
  },
  {
   "cell_type": "code",
   "execution_count": 166,
   "id": "6dd7e01f-cded-4e4c-8693-5b7907236870",
   "metadata": {},
   "outputs": [
    {
     "name": "stdout",
     "output_type": "stream",
     "text": [
      "                              Features      Score\n",
      "3                             A4_Score  42.338541\n",
      "8                             A9_Score  34.980461\n",
      "7                             A8_Score  28.251186\n",
      "11                              result  17.011055\n",
      "0                             A1_Score  16.570951\n",
      "9                            A10_Score  15.483910\n",
      "5                             A6_Score  14.625696\n",
      "2                             A3_Score  11.734209\n",
      "79         contry_of_res_United States  10.955781\n",
      "4                             A5_Score  10.821959\n",
      "6                             A7_Score   8.630529\n",
      "1                             A2_Score   7.134778\n",
      "77  contry_of_res_United Arab Emirates   6.536424\n",
      "52                contry_of_res_Jordan   4.343619\n",
      "16                  ethnicity_Hispanic   3.926709\n",
      "18           ethnicity_Middle Eastern    3.764138\n",
      "30               contry_of_res_Armenia   3.212766\n",
      "47                  contry_of_res_Iraq   2.801325\n",
      "67                 contry_of_res_Qatar   2.801325\n",
      "82                   relation_Relative   2.425684\n",
      "33               contry_of_res_Bahrain   2.141844\n",
      "36                contry_of_res_Brazil   2.141844\n",
      "71          contry_of_res_South Africa   2.141844\n",
      "22                   ethnicity_Turkish   1.867550\n",
      "28           contry_of_res_Afghanistan   1.867550\n",
      "50                 contry_of_res_Italy   1.867550\n",
      "57              contry_of_res_Malaysia   1.867550\n",
      "75                contry_of_res_Turkey   1.867550\n",
      "38                contry_of_res_Canada   1.501164\n",
      "15                     ethnicity_Black   1.434932\n",
      "41                 contry_of_res_Egypt   1.217463\n",
      "66           contry_of_res_Philippines   1.143018\n",
      "35                contry_of_res_Bhutan   1.070922\n",
      "37              contry_of_res_Bulgaria   1.070922\n",
      "39                 contry_of_res_China   1.070922\n",
      "42                contry_of_res_Europe   1.070922\n",
      "44               contry_of_res_Germany   1.070922\n",
      "48               contry_of_res_Ireland   1.070922\n",
      "49           contry_of_res_Isle of Man   1.070922\n",
      "58                 contry_of_res_Malta   1.070922\n",
      "60                 contry_of_res_Nepal   1.070922\n",
      "63               contry_of_res_Nigeria   1.070922\n",
      "73                contry_of_res_Sweden   1.070922\n",
      "46                 contry_of_res_India   1.026327\n",
      "29             contry_of_res_Argentina   0.933775\n",
      "40            contry_of_res_Costa Rica   0.933775\n",
      "45                 contry_of_res_Ghana   0.933775\n",
      "51                 contry_of_res_Japan   0.933775\n",
      "53                contry_of_res_Kuwait   0.933775\n",
      "54                contry_of_res_Latvia   0.933775\n"
     ]
    }
   ],
   "source": [
    "from sklearn.feature_selection import SelectKBest \n",
    "from sklearn.feature_selection import chi2  \n",
    "chi2_features = SelectKBest(chi2,k=75)\n",
    "fit= chi2_features.fit(X, y)\n",
    "scores = pd.DataFrame(fit.scores_)\n",
    "columns = pd.DataFrame(features.columns)\n",
    "featureScores = pd.concat([columns,scores],axis=1)\n",
    "featureScores.columns = ['Features','Score']\n",
    "print(featureScores.nlargest(50,'Score')) "
   ]
  },
  {
   "cell_type": "code",
   "execution_count": 167,
   "id": "e0f16657-b549-4b6e-a904-9dc9c7b3390d",
   "metadata": {},
   "outputs": [],
   "source": [
    "from sklearn.feature_selection import SelectKBest \n",
    "from sklearn.feature_selection import chi2  \n",
    "# 700 features with highest chi-squared statistics are selected \n",
    "chi2_features = SelectKBest(chi2,k=75)\n",
    "X = chi2_features.fit_transform(X, y)\n",
    "y = target"
   ]
  },
  {
   "cell_type": "code",
   "execution_count": 168,
   "id": "ed156881-b4cb-4f65-8868-c93f6622ccd0",
   "metadata": {},
   "outputs": [],
   "source": [
    "#Splitting the data into train test spit\n",
    "from sklearn.model_selection import train_test_split, RandomizedSearchCV\n",
    "X_train, X_test, y_train, y_test = train_test_split(X, y, test_size = 0.20, random_state = 42)"
   ]
  },
  {
   "cell_type": "markdown",
   "id": "2f80f315-c555-4adf-a58a-58f3c49f11af",
   "metadata": {},
   "source": [
    "# Logistic Regression"
   ]
  },
  {
   "cell_type": "code",
   "execution_count": 170,
   "id": "63e5a2f1-6bd3-49f0-a636-68523b1e57a8",
   "metadata": {},
   "outputs": [
    {
     "data": {
      "text/html": [
       "<style>#sk-container-id-3 {color: black;background-color: white;}#sk-container-id-3 pre{padding: 0;}#sk-container-id-3 div.sk-toggleable {background-color: white;}#sk-container-id-3 label.sk-toggleable__label {cursor: pointer;display: block;width: 100%;margin-bottom: 0;padding: 0.3em;box-sizing: border-box;text-align: center;}#sk-container-id-3 label.sk-toggleable__label-arrow:before {content: \"▸\";float: left;margin-right: 0.25em;color: #696969;}#sk-container-id-3 label.sk-toggleable__label-arrow:hover:before {color: black;}#sk-container-id-3 div.sk-estimator:hover label.sk-toggleable__label-arrow:before {color: black;}#sk-container-id-3 div.sk-toggleable__content {max-height: 0;max-width: 0;overflow: hidden;text-align: left;background-color: #f0f8ff;}#sk-container-id-3 div.sk-toggleable__content pre {margin: 0.2em;color: black;border-radius: 0.25em;background-color: #f0f8ff;}#sk-container-id-3 input.sk-toggleable__control:checked~div.sk-toggleable__content {max-height: 200px;max-width: 100%;overflow: auto;}#sk-container-id-3 input.sk-toggleable__control:checked~label.sk-toggleable__label-arrow:before {content: \"▾\";}#sk-container-id-3 div.sk-estimator input.sk-toggleable__control:checked~label.sk-toggleable__label {background-color: #d4ebff;}#sk-container-id-3 div.sk-label input.sk-toggleable__control:checked~label.sk-toggleable__label {background-color: #d4ebff;}#sk-container-id-3 input.sk-hidden--visually {border: 0;clip: rect(1px 1px 1px 1px);clip: rect(1px, 1px, 1px, 1px);height: 1px;margin: -1px;overflow: hidden;padding: 0;position: absolute;width: 1px;}#sk-container-id-3 div.sk-estimator {font-family: monospace;background-color: #f0f8ff;border: 1px dotted black;border-radius: 0.25em;box-sizing: border-box;margin-bottom: 0.5em;}#sk-container-id-3 div.sk-estimator:hover {background-color: #d4ebff;}#sk-container-id-3 div.sk-parallel-item::after {content: \"\";width: 100%;border-bottom: 1px solid gray;flex-grow: 1;}#sk-container-id-3 div.sk-label:hover label.sk-toggleable__label {background-color: #d4ebff;}#sk-container-id-3 div.sk-serial::before {content: \"\";position: absolute;border-left: 1px solid gray;box-sizing: border-box;top: 0;bottom: 0;left: 50%;z-index: 0;}#sk-container-id-3 div.sk-serial {display: flex;flex-direction: column;align-items: center;background-color: white;padding-right: 0.2em;padding-left: 0.2em;position: relative;}#sk-container-id-3 div.sk-item {position: relative;z-index: 1;}#sk-container-id-3 div.sk-parallel {display: flex;align-items: stretch;justify-content: center;background-color: white;position: relative;}#sk-container-id-3 div.sk-item::before, #sk-container-id-3 div.sk-parallel-item::before {content: \"\";position: absolute;border-left: 1px solid gray;box-sizing: border-box;top: 0;bottom: 0;left: 50%;z-index: -1;}#sk-container-id-3 div.sk-parallel-item {display: flex;flex-direction: column;z-index: 1;position: relative;background-color: white;}#sk-container-id-3 div.sk-parallel-item:first-child::after {align-self: flex-end;width: 50%;}#sk-container-id-3 div.sk-parallel-item:last-child::after {align-self: flex-start;width: 50%;}#sk-container-id-3 div.sk-parallel-item:only-child::after {width: 0;}#sk-container-id-3 div.sk-dashed-wrapped {border: 1px dashed gray;margin: 0 0.4em 0.5em 0.4em;box-sizing: border-box;padding-bottom: 0.4em;background-color: white;}#sk-container-id-3 div.sk-label label {font-family: monospace;font-weight: bold;display: inline-block;line-height: 1.2em;}#sk-container-id-3 div.sk-label-container {text-align: center;}#sk-container-id-3 div.sk-container {/* jupyter's `normalize.less` sets `[hidden] { display: none; }` but bootstrap.min.css set `[hidden] { display: none !important; }` so we also need the `!important` here to be able to override the default hidden behavior on the sphinx rendered scikit-learn.org. See: https://github.com/scikit-learn/scikit-learn/issues/21755 */display: inline-block !important;position: relative;}#sk-container-id-3 div.sk-text-repr-fallback {display: none;}</style><div id=\"sk-container-id-3\" class=\"sk-top-container\"><div class=\"sk-text-repr-fallback\"><pre>RandomizedSearchCV(cv=5, estimator=LogisticRegression(random_state=42),\n",
       "                   param_distributions={&#x27;C&#x27;: [0.001, 0.01, 0.1, 1, 10, 100,\n",
       "                                              1000],\n",
       "                                        &#x27;penalty&#x27;: [&#x27;l1&#x27;, &#x27;l2&#x27;]})</pre><b>In a Jupyter environment, please rerun this cell to show the HTML representation or trust the notebook. <br />On GitHub, the HTML representation is unable to render, please try loading this page with nbviewer.org.</b></div><div class=\"sk-container\" hidden><div class=\"sk-item sk-dashed-wrapped\"><div class=\"sk-label-container\"><div class=\"sk-label sk-toggleable\"><input class=\"sk-toggleable__control sk-hidden--visually\" id=\"sk-estimator-id-5\" type=\"checkbox\" ><label for=\"sk-estimator-id-5\" class=\"sk-toggleable__label sk-toggleable__label-arrow\">RandomizedSearchCV</label><div class=\"sk-toggleable__content\"><pre>RandomizedSearchCV(cv=5, estimator=LogisticRegression(random_state=42),\n",
       "                   param_distributions={&#x27;C&#x27;: [0.001, 0.01, 0.1, 1, 10, 100,\n",
       "                                              1000],\n",
       "                                        &#x27;penalty&#x27;: [&#x27;l1&#x27;, &#x27;l2&#x27;]})</pre></div></div></div><div class=\"sk-parallel\"><div class=\"sk-parallel-item\"><div class=\"sk-item\"><div class=\"sk-label-container\"><div class=\"sk-label sk-toggleable\"><input class=\"sk-toggleable__control sk-hidden--visually\" id=\"sk-estimator-id-6\" type=\"checkbox\" ><label for=\"sk-estimator-id-6\" class=\"sk-toggleable__label sk-toggleable__label-arrow\">estimator: LogisticRegression</label><div class=\"sk-toggleable__content\"><pre>LogisticRegression(random_state=42)</pre></div></div></div><div class=\"sk-serial\"><div class=\"sk-item\"><div class=\"sk-estimator sk-toggleable\"><input class=\"sk-toggleable__control sk-hidden--visually\" id=\"sk-estimator-id-7\" type=\"checkbox\" ><label for=\"sk-estimator-id-7\" class=\"sk-toggleable__label sk-toggleable__label-arrow\">LogisticRegression</label><div class=\"sk-toggleable__content\"><pre>LogisticRegression(random_state=42)</pre></div></div></div></div></div></div></div></div></div></div>"
      ],
      "text/plain": [
       "RandomizedSearchCV(cv=5, estimator=LogisticRegression(random_state=42),\n",
       "                   param_distributions={'C': [0.001, 0.01, 0.1, 1, 10, 100,\n",
       "                                              1000],\n",
       "                                        'penalty': ['l1', 'l2']})"
      ]
     },
     "execution_count": 170,
     "metadata": {},
     "output_type": "execute_result"
    }
   ],
   "source": [
    "from sklearn.linear_model import LogisticRegression\n",
    "\n",
    "grid_values = {'penalty': ['l1','l2'], \n",
    "               'C': [0.001,0.01,0.1,1,10,100,1000]}\n",
    "lr=LogisticRegression(random_state=42)\n",
    "lr_randomcv = RandomizedSearchCV(lr, param_distributions=grid_values, cv=5)\n",
    "#fit the randomized model\n",
    "lr_randomcv.fit(X_train,y_train)"
   ]
  },
  {
   "cell_type": "code",
   "execution_count": 171,
   "id": "2e45dac8-abc4-49b7-8406-10cc5bbeb682",
   "metadata": {
    "scrolled": true
   },
   "outputs": [
    {
     "name": "stdout",
     "output_type": "stream",
     "text": [
      "All results:\n",
      "{'mean_fit_time': array([0.00010147, 0.01999087, 0.01448474, 0.00920491, 0.00150509,\n",
      "       0.00313683, 0.00980544, 0.        , 0.00630827, 0.        ]), 'std_fit_time': array([0.00020294, 0.00553848, 0.00245687, 0.0065425 , 0.00301018,\n",
      "       0.00627365, 0.00977115, 0.        , 0.00772636, 0.        ]), 'mean_score_time': array([0.        , 0.00035052, 0.        , 0.        , 0.00406904,\n",
      "       0.        , 0.        , 0.        , 0.        , 0.        ]), 'std_score_time': array([0.        , 0.00070105, 0.        , 0.        , 0.00531344,\n",
      "       0.        , 0.        , 0.        , 0.        , 0.        ]), 'param_penalty': masked_array(data=['l1', 'l2', 'l2', 'l2', 'l2', 'l1', 'l2', 'l1', 'l2',\n",
      "                   'l1'],\n",
      "             mask=[False, False, False, False, False, False, False, False,\n",
      "                   False, False],\n",
      "       fill_value='?',\n",
      "            dtype=object), 'param_C': masked_array(data=[0.01, 1000, 10, 1, 0.001, 0.001, 0.01, 10, 0.1, 1000],\n",
      "             mask=[False, False, False, False, False, False, False, False,\n",
      "                   False, False],\n",
      "       fill_value='?',\n",
      "            dtype=object), 'params': [{'penalty': 'l1', 'C': 0.01}, {'penalty': 'l2', 'C': 1000}, {'penalty': 'l2', 'C': 10}, {'penalty': 'l2', 'C': 1}, {'penalty': 'l2', 'C': 0.001}, {'penalty': 'l1', 'C': 0.001}, {'penalty': 'l2', 'C': 0.01}, {'penalty': 'l1', 'C': 10}, {'penalty': 'l2', 'C': 0.1}, {'penalty': 'l1', 'C': 1000}], 'split0_test_score': array([       nan, 0.9787234 , 1.        , 1.        , 0.61702128,\n",
      "              nan, 0.95744681,        nan, 1.        ,        nan]), 'split1_test_score': array([       nan, 1.        , 0.9787234 , 1.        , 0.5106383 ,\n",
      "              nan, 0.95744681,        nan, 1.        ,        nan]), 'split2_test_score': array([      nan, 1.       , 1.       , 1.       , 0.5106383,       nan,\n",
      "       0.9787234,       nan, 1.       ,       nan]), 'split3_test_score': array([       nan, 1.        , 1.        , 1.        , 0.58695652,\n",
      "              nan, 0.89130435,        nan, 0.97826087,        nan]), 'split4_test_score': array([       nan, 1.        , 1.        , 0.97826087, 0.52173913,\n",
      "              nan, 0.89130435,        nan, 0.97826087,        nan]), 'mean_test_score': array([       nan, 0.99574468, 0.99574468, 0.99565217, 0.5493987 ,\n",
      "              nan, 0.93524514,        nan, 0.99130435,        nan]), 'std_test_score': array([       nan, 0.00851064, 0.00851064, 0.00869565, 0.04416603,\n",
      "              nan, 0.03670906,        nan, 0.01064996,        nan]), 'rank_test_score': array([7, 1, 1, 3, 6, 7, 5, 7, 4, 7])}\n"
     ]
    }
   ],
   "source": [
    "print('All results:')\n",
    "print(lr_randomcv.cv_results_)"
   ]
  },
  {
   "cell_type": "code",
   "execution_count": 172,
   "id": "3c5b93e6-da55-4a92-bc12-f74e85ec95a7",
   "metadata": {},
   "outputs": [
    {
     "name": "stdout",
     "output_type": "stream",
     "text": [
      "Best estimator:\n",
      "LogisticRegression(C=1000, random_state=42)\n"
     ]
    }
   ],
   "source": [
    "print('Best estimator:')\n",
    "print(lr_randomcv.best_estimator_)"
   ]
  },
  {
   "cell_type": "code",
   "execution_count": 173,
   "id": "f7728e15-2c7f-4287-ac2f-0e6c0c809b34",
   "metadata": {},
   "outputs": [
    {
     "name": "stdout",
     "output_type": "stream",
     "text": [
      "Best hyperparameters:\n",
      "{'penalty': 'l2', 'C': 1000}\n"
     ]
    }
   ],
   "source": [
    "print('Best hyperparameters:')\n",
    "print(lr_randomcv.best_params_)"
   ]
  },
  {
   "cell_type": "code",
   "execution_count": 174,
   "id": "b98340d5-1660-4d6d-8e98-67e77c0e816b",
   "metadata": {},
   "outputs": [
    {
     "data": {
      "text/html": [
       "<style>#sk-container-id-4 {color: black;background-color: white;}#sk-container-id-4 pre{padding: 0;}#sk-container-id-4 div.sk-toggleable {background-color: white;}#sk-container-id-4 label.sk-toggleable__label {cursor: pointer;display: block;width: 100%;margin-bottom: 0;padding: 0.3em;box-sizing: border-box;text-align: center;}#sk-container-id-4 label.sk-toggleable__label-arrow:before {content: \"▸\";float: left;margin-right: 0.25em;color: #696969;}#sk-container-id-4 label.sk-toggleable__label-arrow:hover:before {color: black;}#sk-container-id-4 div.sk-estimator:hover label.sk-toggleable__label-arrow:before {color: black;}#sk-container-id-4 div.sk-toggleable__content {max-height: 0;max-width: 0;overflow: hidden;text-align: left;background-color: #f0f8ff;}#sk-container-id-4 div.sk-toggleable__content pre {margin: 0.2em;color: black;border-radius: 0.25em;background-color: #f0f8ff;}#sk-container-id-4 input.sk-toggleable__control:checked~div.sk-toggleable__content {max-height: 200px;max-width: 100%;overflow: auto;}#sk-container-id-4 input.sk-toggleable__control:checked~label.sk-toggleable__label-arrow:before {content: \"▾\";}#sk-container-id-4 div.sk-estimator input.sk-toggleable__control:checked~label.sk-toggleable__label {background-color: #d4ebff;}#sk-container-id-4 div.sk-label input.sk-toggleable__control:checked~label.sk-toggleable__label {background-color: #d4ebff;}#sk-container-id-4 input.sk-hidden--visually {border: 0;clip: rect(1px 1px 1px 1px);clip: rect(1px, 1px, 1px, 1px);height: 1px;margin: -1px;overflow: hidden;padding: 0;position: absolute;width: 1px;}#sk-container-id-4 div.sk-estimator {font-family: monospace;background-color: #f0f8ff;border: 1px dotted black;border-radius: 0.25em;box-sizing: border-box;margin-bottom: 0.5em;}#sk-container-id-4 div.sk-estimator:hover {background-color: #d4ebff;}#sk-container-id-4 div.sk-parallel-item::after {content: \"\";width: 100%;border-bottom: 1px solid gray;flex-grow: 1;}#sk-container-id-4 div.sk-label:hover label.sk-toggleable__label {background-color: #d4ebff;}#sk-container-id-4 div.sk-serial::before {content: \"\";position: absolute;border-left: 1px solid gray;box-sizing: border-box;top: 0;bottom: 0;left: 50%;z-index: 0;}#sk-container-id-4 div.sk-serial {display: flex;flex-direction: column;align-items: center;background-color: white;padding-right: 0.2em;padding-left: 0.2em;position: relative;}#sk-container-id-4 div.sk-item {position: relative;z-index: 1;}#sk-container-id-4 div.sk-parallel {display: flex;align-items: stretch;justify-content: center;background-color: white;position: relative;}#sk-container-id-4 div.sk-item::before, #sk-container-id-4 div.sk-parallel-item::before {content: \"\";position: absolute;border-left: 1px solid gray;box-sizing: border-box;top: 0;bottom: 0;left: 50%;z-index: -1;}#sk-container-id-4 div.sk-parallel-item {display: flex;flex-direction: column;z-index: 1;position: relative;background-color: white;}#sk-container-id-4 div.sk-parallel-item:first-child::after {align-self: flex-end;width: 50%;}#sk-container-id-4 div.sk-parallel-item:last-child::after {align-self: flex-start;width: 50%;}#sk-container-id-4 div.sk-parallel-item:only-child::after {width: 0;}#sk-container-id-4 div.sk-dashed-wrapped {border: 1px dashed gray;margin: 0 0.4em 0.5em 0.4em;box-sizing: border-box;padding-bottom: 0.4em;background-color: white;}#sk-container-id-4 div.sk-label label {font-family: monospace;font-weight: bold;display: inline-block;line-height: 1.2em;}#sk-container-id-4 div.sk-label-container {text-align: center;}#sk-container-id-4 div.sk-container {/* jupyter's `normalize.less` sets `[hidden] { display: none; }` but bootstrap.min.css set `[hidden] { display: none !important; }` so we also need the `!important` here to be able to override the default hidden behavior on the sphinx rendered scikit-learn.org. See: https://github.com/scikit-learn/scikit-learn/issues/21755 */display: inline-block !important;position: relative;}#sk-container-id-4 div.sk-text-repr-fallback {display: none;}</style><div id=\"sk-container-id-4\" class=\"sk-top-container\"><div class=\"sk-text-repr-fallback\"><pre>LogisticRegression(C=1000)</pre><b>In a Jupyter environment, please rerun this cell to show the HTML representation or trust the notebook. <br />On GitHub, the HTML representation is unable to render, please try loading this page with nbviewer.org.</b></div><div class=\"sk-container\" hidden><div class=\"sk-item\"><div class=\"sk-estimator sk-toggleable\"><input class=\"sk-toggleable__control sk-hidden--visually\" id=\"sk-estimator-id-8\" type=\"checkbox\" checked><label for=\"sk-estimator-id-8\" class=\"sk-toggleable__label sk-toggleable__label-arrow\">LogisticRegression</label><div class=\"sk-toggleable__content\"><pre>LogisticRegression(C=1000)</pre></div></div></div></div></div>"
      ],
      "text/plain": [
       "LogisticRegression(C=1000)"
      ]
     },
     "execution_count": 174,
     "metadata": {},
     "output_type": "execute_result"
    }
   ],
   "source": [
    "from sklearn.linear_model import LogisticRegression\n",
    "lr = LogisticRegression(penalty = 'l2', C = 1000)\n",
    "lr.fit(X_train, y_train)"
   ]
  },
  {
   "cell_type": "code",
   "execution_count": 175,
   "id": "132fdef8-45e3-4b58-bde7-9c5714f13166",
   "metadata": {},
   "outputs": [],
   "source": [
    "def model_report(y_act, y_pred):\n",
    "    from sklearn import metrics\n",
    "    from sklearn.metrics import accuracy_score, f1_score, precision_score, recall_score, cohen_kappa_score, roc_curve, auc, log_loss\n",
    "    print(\"Accuracy = \", accuracy_score(y_act, y_pred))\n",
    "    print(\"Precision = \" ,precision_score(y_act, y_pred))\n",
    "    print(\"Recall\\Sensitivity = \" ,recall_score(y_act, y_pred))\n",
    "    confusion = metrics.confusion_matrix(y_act, y_pred)\n",
    "    #[row, column]\n",
    "    TP = confusion[1, 1]\n",
    "    TN = confusion[0, 0]\n",
    "    FP = confusion[0, 1]\n",
    "    FN = confusion[1, 0]\n",
    "    specificity = TN / (TN + FP)\n",
    "    print(\"Specificity = \" ,specificity)\n",
    "    print(\"F1 Score = \" ,f1_score(y_act, y_pred))\n",
    "    false_positive_rate, true_positive_rate, thresholds = roc_curve(y_act, y_pred)\n",
    "    print(\"AUC Score =\", auc(false_positive_rate, true_positive_rate))\n",
    "    print(\"Kappa score = \",cohen_kappa_score(y_act,y_pred))\n",
    "    print(\"Log Loss = \" ,log_loss(y_act, y_pred),\"\\n\")\n",
    "    pass\n"
   ]
  },
  {
   "cell_type": "code",
   "execution_count": 176,
   "id": "3a41e911-f822-4909-8adf-83c84a514bab",
   "metadata": {},
   "outputs": [
    {
     "name": "stdout",
     "output_type": "stream",
     "text": [
      "Accuracy =  1.0\n",
      "Precision =  1.0\n",
      "Recall\\Sensitivity =  1.0\n",
      "Specificity =  1.0\n",
      "F1 Score =  1.0\n",
      "AUC Score = 1.0\n",
      "Kappa score =  1.0\n",
      "Log Loss =  2.2204460492503136e-16 \n",
      "\n"
     ]
    }
   ],
   "source": [
    "y_pred_lr = lr.predict(X_test)\n",
    "model_report(y_test, y_pred_lr)"
   ]
  },
  {
   "cell_type": "code",
   "execution_count": 177,
   "id": "8b2ea6fc-ac99-4fdd-9554-c95c2c0c6ac1",
   "metadata": {},
   "outputs": [],
   "source": [
    "import numpy as np\n",
    "from sklearn.model_selection import learning_curve\n",
    "from sklearn.model_selection import ShuffleSplit\n",
    "\n",
    "def plot_learning_curve(estimator, title, X, y, ylim=None, cv=None, n_jobs=1, train_sizes=np.linspace(.1, 1.0, 5)):\n",
    "    plt.figure()\n",
    "    plt.title(title)\n",
    "    if ylim is not None:\n",
    "        plt.ylim(*ylim)\n",
    "    plt.xlabel(\"Training examples\")\n",
    "    plt.ylabel(\"AUC\")\n",
    "    train_sizes, train_scores, test_scores = learning_curve(\n",
    "        estimator, X, y, cv=cv, n_jobs=n_jobs, train_sizes=train_sizes, scoring = 'roc_auc')\n",
    "    train_scores_mean = np.mean(train_scores, axis=1)\n",
    "    train_scores_std = np.std(train_scores, axis=1)\n",
    "    test_scores_mean = np.mean(test_scores, axis=1)\n",
    "    test_scores_std = np.std(test_scores, axis=1)\n",
    "\n",
    "    plt.fill_between(train_sizes, train_scores_mean - train_scores_std,\n",
    "                     train_scores_mean + train_scores_std, alpha=0.1,\n",
    "                     color=\"r\")\n",
    "    plt.fill_between(train_sizes, test_scores_mean - test_scores_std,\n",
    "                     test_scores_mean + test_scores_std, alpha=0.1, color=\"b\")\n",
    "    plt.plot(train_sizes, train_scores_mean, 'o-', color=\"r\",\n",
    "             label=\"Training score\")\n",
    "    plt.plot(train_sizes, test_scores_mean, 'o-', color=\"b\",\n",
    "             label=\"Cross-validation score\")\n",
    "\n",
    "    plt.legend(loc=\"lower right\")\n",
    "    return plt"
   ]
  },
  {
   "cell_type": "code",
   "execution_count": 178,
   "id": "b0da5f17-71b6-489b-ae78-546b54a16281",
   "metadata": {},
   "outputs": [
    {
     "data": {
      "image/png": "[encoded data removed]",
      "text/plain": [
       "<Figure size 640x480 with 1 Axes>"
      ]
     },
     "metadata": {},
     "output_type": "display_data"
    }
   ],
   "source": [
    "title = \"Learning Curves (LogisticRegression)\"                                  \n",
    "cv = ShuffleSplit(n_splits=5, test_size=0.2, random_state=42)\n",
    "lr = LogisticRegression(penalty = 'l2', C = 1000)                            \n",
    "plot_learning_curve(lr, title, X, y, ylim=(0.2, 1.25), cv=cv, n_jobs=4)\n",
    "plt.savefig('LR_curve.pdf', transparent=True, dpi=300)\n",
    "plt.show()"
   ]
  },
  {
   "cell_type": "code",
   "execution_count": 179,
   "id": "225ddc79-a941-44d1-8144-dc2c717fde24",
   "metadata": {},
   "outputs": [
    {
     "data": {
      "image/png": "[encoded data removed]",
      "text/plain": [
       "<Figure size 1000x800 with 2 Axes>"
      ]
     },
     "metadata": {},
     "output_type": "display_data"
    }
   ],
   "source": [
    "from sklearn.metrics import confusion_matrix\n",
    "\n",
    "cm = confusion_matrix(y_test, y_pred_lr)\n",
    "plt.figure(figsize=(10, 8))\n",
    "ax = sns.heatmap(cm, cmap=plt.cm.Greens, annot=True, square=True, annot_kws={\"size\": 25})\n",
    "plt.title('Confusion Matrix', fontsize=20)\n",
    "ax.set_ylabel('Actual Label', fontsize=20)\n",
    "ax.set_xlabel('Predicted Label', fontsize=20)\n",
    "plt.savefig('LR_confusion.pdf', transparent=True, dpi=300)"
   ]
  },
  {
   "cell_type": "code",
   "execution_count": 180,
   "id": "b2735c75-e6ab-4f48-811b-e98b2d869cda",
   "metadata": {},
   "outputs": [],
   "source": [
    "from sklearn.metrics import roc_curve\n",
    "fpr_LR, tpr_LR, thresholds_LR = roc_curve(y_test, y_pred_lr)"
   ]
  },
  {
   "cell_type": "code",
   "execution_count": 181,
   "id": "40fe9005-d8a6-4a7f-93c4-4bf0a055afba",
   "metadata": {},
   "outputs": [],
   "source": [
    "from sklearn.metrics import auc\n",
    "roc_auc_LR = auc(fpr_LR, tpr_LR)"
   ]
  },
  {
   "cell_type": "code",
   "execution_count": 182,
   "id": "4fb27b0a-ef28-414b-8960-96eb806675b9",
   "metadata": {},
   "outputs": [
    {
     "data": {
      "image/png": "[encoded data removed]",
      "text/plain": [
       "<Figure size 700x500 with 1 Axes>"
      ]
     },
     "metadata": {},
     "output_type": "display_data"
    }
   ],
   "source": [
    "from sklearn.metrics import roc_curve\n",
    "from sklearn.metrics import auc\n",
    "\n",
    "# Compute fpr, tpr, thresholds and roc auc\n",
    "plt.figure(figsize = (7, 5))\n",
    "plt.plot(fpr_LR, tpr_LR, label='LR ROC curve (area = %0.3f)' % roc_auc_LR)\n",
    "plt.plot([0, 1], [0, 1], 'k--')\n",
    "plt.xlabel('False Positive Rate')\n",
    "plt.ylabel('True Positive Rate')\n",
    "plt.title('Receiver Operating Characteristic for 80%-20% Splitting')\n",
    "plt.legend(loc=\"lower right\")\n",
    "plt.savefig('all_roc.pdf', transparent=True, dpi=300)\n",
    "plt.show()"
   ]
  },
  {
   "cell_type": "code",
   "execution_count": 183,
   "id": "1ba6e8e0-17d9-48a7-a76e-f43d28bae89f",
   "metadata": {},
   "outputs": [],
   "source": [
    "# import joblib\n",
    "# joblib.dump(lr, 'lr_model_for_children.pkl')"
   ]
  },
  {
   "cell_type": "code",
   "execution_count": 184,
   "id": "ca492112-c455-4f54-84d4-e16e846a39f6",
   "metadata": {},
   "outputs": [
    {
     "name": "stdout",
     "output_type": "stream",
     "text": [
      "Number of Selected Features: 75\n",
      "Selected Feature Names: Index(['A1_Score', 'A2_Score', 'A3_Score', 'A4_Score', 'A5_Score', 'A6_Score',\n",
      "       'A7_Score', 'A8_Score', 'A9_Score', 'A10_Score', 'Age_Mons', 'result',\n",
      "       'gender_f', 'gender_m', 'ethnicity_Black', 'ethnicity_Hispanic',\n",
      "       'ethnicity_Latino', 'ethnicity_Middle Eastern ', 'ethnicity_Others',\n",
      "       'ethnicity_South Asian', 'ethnicity_Turkish',\n",
      "       'ethnicity_White-European', 'jundice_yes', 'austim_no', 'austim_yes',\n",
      "       'contry_of_res_Afghanistan', 'contry_of_res_Argentina',\n",
      "       'contry_of_res_Armenia', 'contry_of_res_Australia',\n",
      "       'contry_of_res_Bahrain', 'contry_of_res_Bangladesh',\n",
      "       'contry_of_res_Bhutan', 'contry_of_res_Brazil',\n",
      "       'contry_of_res_Bulgaria', 'contry_of_res_Canada', 'contry_of_res_China',\n",
      "       'contry_of_res_Costa Rica', 'contry_of_res_Egypt',\n",
      "       'contry_of_res_Europe', 'contry_of_res_Germany', 'contry_of_res_Ghana',\n",
      "       'contry_of_res_India', 'contry_of_res_Iraq', 'contry_of_res_Ireland',\n",
      "       'contry_of_res_Isle of Man', 'contry_of_res_Italy',\n",
      "       'contry_of_res_Japan', 'contry_of_res_Jordan', 'contry_of_res_Kuwait',\n",
      "       'contry_of_res_Latvia', 'contry_of_res_Libya', 'contry_of_res_Malaysia',\n",
      "       'contry_of_res_Malta', 'contry_of_res_Nepal',\n",
      "       'contry_of_res_Netherlands', 'contry_of_res_New Zealand',\n",
      "       'contry_of_res_Nigeria', 'contry_of_res_Oman',\n",
      "       'contry_of_res_Philippines', 'contry_of_res_Qatar',\n",
      "       'contry_of_res_Romania', 'contry_of_res_Russia',\n",
      "       'contry_of_res_Saudi Arabia', 'contry_of_res_South Africa',\n",
      "       'contry_of_res_South Korea', 'contry_of_res_Sweden',\n",
      "       'contry_of_res_Syria', 'contry_of_res_Turkey',\n",
      "       'contry_of_res_U.S. Outlying Islands',\n",
      "       'contry_of_res_United Arab Emirates', 'contry_of_res_United States',\n",
      "       'relation_Health care professional', 'relation_Parent',\n",
      "       'relation_Relative', 'relation_Self'],\n",
      "      dtype='object')\n"
     ]
    }
   ],
   "source": [
    "# Getting selected feature names\n",
    "selected_features = chi2_features.get_support(indices=True)\n",
    "selected_feature_names = features.columns[selected_features]\n",
    "print(\"Number of Selected Features:\", len(selected_feature_names))\n",
    "print(\"Selected Feature Names:\", selected_feature_names)"
   ]
  },
  {
   "cell_type": "code",
   "execution_count": 185,
   "id": "1b787b0d-7c09-4374-af55-17b058635c4d",
   "metadata": {},
   "outputs": [
    {
     "name": "stdout",
     "output_type": "stream",
     "text": [
      "Shape of X after transformation: (292, 75)\n",
      "Length of selected features: 75\n"
     ]
    }
   ],
   "source": [
    "print(\"Shape of X after transformation:\", X.shape)\n",
    "print(\"Length of selected features:\", len(selected_feature_names))"
   ]
  },
  {
   "cell_type": "code",
   "execution_count": 186,
   "id": "39c21e47-f1f6-44fb-8da3-d15d1d51ffb0",
   "metadata": {},
   "outputs": [],
   "source": [
    "columns = pd.DataFrame(features.columns)"
   ]
  },
  {
   "cell_type": "code",
   "execution_count": 187,
   "id": "6e0a7e3c-0fea-48b8-b4a5-faf2e396bc93",
   "metadata": {},
   "outputs": [
    {
     "data": {
      "text/html": [
       "<div>\n",
       "<style scoped>\n",
       "    .dataframe tbody tr th:only-of-type {\n",
       "        vertical-align: middle;\n",
       "    }\n",
       "\n",
       "    .dataframe tbody tr th {\n",
       "        vertical-align: top;\n",
       "    }\n",
       "\n",
       "    .dataframe thead th {\n",
       "        text-align: right;\n",
       "    }\n",
       "</style>\n",
       "<table border=\"1\" class=\"dataframe\">\n",
       "  <thead>\n",
       "    <tr style=\"text-align: right;\">\n",
       "      <th></th>\n",
       "      <th>0</th>\n",
       "    </tr>\n",
       "  </thead>\n",
       "  <tbody>\n",
       "    <tr>\n",
       "      <th>0</th>\n",
       "      <td>A1_Score</td>\n",
       "    </tr>\n",
       "    <tr>\n",
       "      <th>1</th>\n",
       "      <td>A2_Score</td>\n",
       "    </tr>\n",
       "    <tr>\n",
       "      <th>2</th>\n",
       "      <td>A3_Score</td>\n",
       "    </tr>\n",
       "    <tr>\n",
       "      <th>3</th>\n",
       "      <td>A4_Score</td>\n",
       "    </tr>\n",
       "    <tr>\n",
       "      <th>4</th>\n",
       "      <td>A5_Score</td>\n",
       "    </tr>\n",
       "    <tr>\n",
       "      <th>...</th>\n",
       "      <td>...</td>\n",
       "    </tr>\n",
       "    <tr>\n",
       "      <th>79</th>\n",
       "      <td>contry_of_res_United States</td>\n",
       "    </tr>\n",
       "    <tr>\n",
       "      <th>80</th>\n",
       "      <td>relation_Health care professional</td>\n",
       "    </tr>\n",
       "    <tr>\n",
       "      <th>81</th>\n",
       "      <td>relation_Parent</td>\n",
       "    </tr>\n",
       "    <tr>\n",
       "      <th>82</th>\n",
       "      <td>relation_Relative</td>\n",
       "    </tr>\n",
       "    <tr>\n",
       "      <th>83</th>\n",
       "      <td>relation_Self</td>\n",
       "    </tr>\n",
       "  </tbody>\n",
       "</table>\n",
       "<p>84 rows × 1 columns</p>\n",
       "</div>"
      ],
      "text/plain": [
       "                                    0\n",
       "0                            A1_Score\n",
       "1                            A2_Score\n",
       "2                            A3_Score\n",
       "3                            A4_Score\n",
       "4                            A5_Score\n",
       "..                                ...\n",
       "79        contry_of_res_United States\n",
       "80  relation_Health care professional\n",
       "81                    relation_Parent\n",
       "82                  relation_Relative\n",
       "83                      relation_Self\n",
       "\n",
       "[84 rows x 1 columns]"
      ]
     },
     "execution_count": 187,
     "metadata": {},
     "output_type": "execute_result"
    }
   ],
   "source": [
    "columns"
   ]
  },
  {
   "cell_type": "code",
   "execution_count": 188,
   "id": "948d241e-a468-4fc4-9caf-05e759d12f27",
   "metadata": {},
   "outputs": [
    {
     "name": "stdout",
     "output_type": "stream",
     "text": [
      "           Features      Score\n",
      "3          A4_Score  42.338541\n",
      "8          A9_Score  34.980461\n",
      "7          A8_Score  28.251186\n",
      "11           result  17.011055\n",
      "0          A1_Score  16.570951\n",
      "..              ...        ...\n",
      "83    relation_Self   0.137532\n",
      "25      jundice_yes   0.133023\n",
      "81  relation_Parent   0.131111\n",
      "13         gender_m   0.126341\n",
      "26        austim_no   0.116692\n",
      "\n",
      "[75 rows x 2 columns]\n"
     ]
    }
   ],
   "source": [
    "print(featureScores.nlargest(75,'Score')) "
   ]
  },
  {
   "cell_type": "code",
   "execution_count": 189,
   "id": "01f8878a-33a0-4b26-9765-198ccb766dbe",
   "metadata": {},
   "outputs": [
    {
     "data": {
      "text/plain": [
       "Index(['A1_Score', 'A2_Score', 'A3_Score', 'A4_Score', 'A5_Score', 'A6_Score',\n",
       "       'A7_Score', 'A8_Score', 'A9_Score', 'A10_Score', 'Age_Mons', 'gender',\n",
       "       'ethnicity', 'jundice', 'austim', 'contry_of_res', 'result', 'relation',\n",
       "       'Class/ASD'],\n",
       "      dtype='object')"
      ]
     },
     "execution_count": 189,
     "metadata": {},
     "output_type": "execute_result"
    }
   ],
   "source": [
    "data.columns"
   ]
  },
  {
   "cell_type": "code",
   "execution_count": 190,
   "id": "aba443d5-d146-4b82-8223-3b51efb72404",
   "metadata": {},
   "outputs": [
    {
     "data": {
      "text/plain": [
       "2"
      ]
     },
     "execution_count": 190,
     "metadata": {},
     "output_type": "execute_result"
    }
   ],
   "source": [
    "data['jundice'].nunique()"
   ]
  },
  {
   "cell_type": "code",
   "execution_count": 191,
   "id": "751d39db-798e-4c2d-9c63-a8b76f4b7eb3",
   "metadata": {},
   "outputs": [
    {
     "data": {
      "text/plain": [
       "4"
      ]
     },
     "execution_count": 191,
     "metadata": {},
     "output_type": "execute_result"
    }
   ],
   "source": [
    "data['relation'].nunique()"
   ]
  },
  {
   "cell_type": "code",
   "execution_count": 192,
   "id": "c888ef5c-a588-4ea1-93cf-3528c007fefe",
   "metadata": {},
   "outputs": [
    {
     "data": {
      "text/plain": [
       "array(['Parent', 'Self', 'Health care professional', 'Relative'],\n",
       "      dtype=object)"
      ]
     },
     "execution_count": 192,
     "metadata": {},
     "output_type": "execute_result"
    }
   ],
   "source": [
    "data['relation'].unique()"
   ]
  },
  {
   "cell_type": "code",
   "execution_count": 193,
   "id": "3c9c3e1b-a1d9-48e9-9450-03ba0c73adf6",
   "metadata": {},
   "outputs": [
    {
     "name": "stdout",
     "output_type": "stream",
     "text": [
      "<class 'pandas.core.frame.DataFrame'>\n",
      "Index: 292 entries, 253 to 288\n",
      "Data columns (total 19 columns):\n",
      " #   Column         Non-Null Count  Dtype  \n",
      "---  ------         --------------  -----  \n",
      " 0   A1_Score       292 non-null    int64  \n",
      " 1   A2_Score       292 non-null    int64  \n",
      " 2   A3_Score       292 non-null    int64  \n",
      " 3   A4_Score       292 non-null    int64  \n",
      " 4   A5_Score       292 non-null    int64  \n",
      " 5   A6_Score       292 non-null    int64  \n",
      " 6   A7_Score       292 non-null    int64  \n",
      " 7   A8_Score       292 non-null    int64  \n",
      " 8   A9_Score       292 non-null    int64  \n",
      " 9   A10_Score      292 non-null    int64  \n",
      " 10  Age_Mons       292 non-null    float64\n",
      " 11  gender         292 non-null    object \n",
      " 12  ethnicity      292 non-null    object \n",
      " 13  jundice        292 non-null    object \n",
      " 14  austim         292 non-null    object \n",
      " 15  contry_of_res  292 non-null    object \n",
      " 16  result         292 non-null    float64\n",
      " 17  relation       292 non-null    object \n",
      " 18  Class/ASD      292 non-null    object \n",
      "dtypes: float64(2), int64(10), object(7)\n",
      "memory usage: 45.6+ KB\n"
     ]
    }
   ],
   "source": [
    "data.info()"
   ]
  },
  {
   "cell_type": "code",
   "execution_count": 194,
   "id": "3806c5ad-c812-48e9-8ae1-f4d50e76106b",
   "metadata": {},
   "outputs": [
    {
     "data": {
      "text/plain": [
       "8"
      ]
     },
     "execution_count": 194,
     "metadata": {},
     "output_type": "execute_result"
    }
   ],
   "source": [
    "data['Age_Mons'].nunique()"
   ]
  },
  {
   "cell_type": "code",
   "execution_count": 195,
   "id": "9399d2dc-1407-4a46-83e5-3fa34cfb7881",
   "metadata": {},
   "outputs": [
    {
     "data": {
      "text/plain": [
       "array([108.,  72., 132.,  60.,  84.,  48., 120.,  96.])"
      ]
     },
     "execution_count": 195,
     "metadata": {},
     "output_type": "execute_result"
    }
   ],
   "source": [
    "data['Age_Mons'].unique()"
   ]
  },
  {
   "cell_type": "code",
   "execution_count": 196,
   "id": "0370c28f-a1fe-4c3f-b70a-38c06eb957e7",
   "metadata": {},
   "outputs": [
    {
     "data": {
      "text/plain": [
       "52"
      ]
     },
     "execution_count": 196,
     "metadata": {},
     "output_type": "execute_result"
    }
   ],
   "source": [
    "data['contry_of_res'].nunique()"
   ]
  },
  {
   "cell_type": "code",
   "execution_count": 197,
   "id": "e166dc85-48d4-4097-ad7a-4be47a4b9074",
   "metadata": {},
   "outputs": [
    {
     "data": {
      "text/plain": [
       "array(['Egypt', 'Philippines', 'Austria', 'United Kingdom', 'Russia',\n",
       "       'India', 'United States', 'Australia', 'Jordan', 'Europe',\n",
       "       'Pakistan', 'Nepal', 'Bangladesh', 'Bulgaria', 'Ireland', 'Canada',\n",
       "       'New Zealand', 'Brazil', 'South Africa', 'Germany', 'Georgia',\n",
       "       'Syria', 'Armenia', 'Bhutan', 'Bahrain', 'China', 'Isle of Man',\n",
       "       'Malta', 'Saudi Arabia', 'Libya', 'Sweden', 'Mexico', 'Lebanon',\n",
       "       'Nigeria', 'United Arab Emirates', 'U.S. Outlying Islands',\n",
       "       'Qatar', 'Afghanistan', 'Italy', 'South Korea', 'Argentina',\n",
       "       'Netherlands', 'Iraq', 'Oman', 'Romania', 'Costa Rica', 'Malaysia',\n",
       "       'Turkey', 'Japan', 'Kuwait', 'Ghana', 'Latvia'], dtype=object)"
      ]
     },
     "execution_count": 197,
     "metadata": {},
     "output_type": "execute_result"
    }
   ],
   "source": [
    "data['contry_of_res'].unique()"
   ]
  },
  {
   "cell_type": "code",
   "execution_count": 198,
   "id": "49a9fc44-adc8-477e-bac3-d0839b6cac50",
   "metadata": {},
   "outputs": [
    {
     "data": {
      "text/plain": [
       "10"
      ]
     },
     "execution_count": 198,
     "metadata": {},
     "output_type": "execute_result"
    }
   ],
   "source": [
    "data['ethnicity'].nunique()"
   ]
  },
  {
   "cell_type": "code",
   "execution_count": 199,
   "id": "deaaae70-f88d-4211-89d3-bc1b7dec44c3",
   "metadata": {},
   "outputs": [
    {
     "data": {
      "text/plain": [
       "array(['Middle Eastern ', 'Asian', 'White-European', 'Hispanic', 'Black',\n",
       "       'South Asian', 'Latino', 'Others', 'Pasifika', 'Turkish'],\n",
       "      dtype=object)"
      ]
     },
     "execution_count": 199,
     "metadata": {},
     "output_type": "execute_result"
    }
   ],
   "source": [
    "data['ethnicity'].unique()"
   ]
  },
  {
   "cell_type": "code",
   "execution_count": 200,
   "id": "8b7a2acb-8332-40b2-98ad-c3c0ea8fb6dd",
   "metadata": {},
   "outputs": [
    {
     "data": {
      "text/plain": [
       "11"
      ]
     },
     "execution_count": 200,
     "metadata": {},
     "output_type": "execute_result"
    }
   ],
   "source": [
    "data['result'].nunique()"
   ]
  },
  {
   "cell_type": "code",
   "execution_count": 201,
   "id": "f3ea4e75-c21f-45aa-8a68-0b88ce50cf5d",
   "metadata": {},
   "outputs": [
    {
     "data": {
      "text/plain": [
       "array([ 8.,  7.,  9., 10.,  4.,  3.,  1.,  6.,  5.,  2.,  0.])"
      ]
     },
     "execution_count": 201,
     "metadata": {},
     "output_type": "execute_result"
    }
   ],
   "source": [
    "data['result'].unique()"
   ]
  },
  {
   "cell_type": "code",
   "execution_count": 202,
   "id": "129d1a5f-c79f-4bc7-b385-95cde14ba729",
   "metadata": {},
   "outputs": [],
   "source": [
    "hello = [ 'contry_of_res_Afghanistan', 'contry_of_res_Argentina',\n",
    "       'contry_of_res_Armenia', 'contry_of_res_Australia',\n",
    "       'contry_of_res_Bahrain', 'contry_of_res_Bangladesh',\n",
    "       'contry_of_res_Bhutan', 'contry_of_res_Brazil',\n",
    "       'contry_of_res_Bulgaria', 'contry_of_res_Canada', 'contry_of_res_China',\n",
    "       'contry_of_res_Costa Rica', 'contry_of_res_Egypt',\n",
    "       'contry_of_res_Europe', 'contry_of_res_Germany', 'contry_of_res_Ghana',\n",
    "       'contry_of_res_India', 'contry_of_res_Iraq', 'contry_of_res_Ireland',\n",
    "       'contry_of_res_Isle of Man', 'contry_of_res_Italy',\n",
    "       'contry_of_res_Japan', 'contry_of_res_Jordan', 'contry_of_res_Kuwait',\n",
    "       'contry_of_res_Latvia', 'contry_of_res_Libya', 'contry_of_res_Malaysia',\n",
    "       'contry_of_res_Malta', 'contry_of_res_Nepal',\n",
    "       'contry_of_res_Netherlands', 'contry_of_res_New Zealand',\n",
    "       'contry_of_res_Nigeria', 'contry_of_res_Oman',\n",
    "       'contry_of_res_Philippines', 'contry_of_res_Qatar',\n",
    "       'contry_of_res_Romania', 'contry_of_res_Russia',\n",
    "       'contry_of_res_Saudi Arabia', 'contry_of_res_South Africa',\n",
    "       'contry_of_res_South Korea', 'contry_of_res_Sweden',\n",
    "       'contry_of_res_Syria', 'contry_of_res_Turkey',\n",
    "       'contry_of_res_U.S. Outlying Islands',\n",
    "       'contry_of_res_United Arab Emirates', 'contry_of_res_United States',]"
   ]
  },
  {
   "cell_type": "code",
   "execution_count": 203,
   "id": "8fc040ae-5b70-4253-b42d-eee3d17b4a26",
   "metadata": {},
   "outputs": [
    {
     "data": {
      "text/plain": [
       "46"
      ]
     },
     "execution_count": 203,
     "metadata": {},
     "output_type": "execute_result"
    }
   ],
   "source": [
    "len(hello)"
   ]
  },
  {
   "cell_type": "code",
   "execution_count": 204,
   "id": "14e17c07-7fd0-4bd5-a33f-b4b000b50f7d",
   "metadata": {},
   "outputs": [
    {
     "data": {
      "text/plain": [
       "2"
      ]
     },
     "execution_count": 204,
     "metadata": {},
     "output_type": "execute_result"
    }
   ],
   "source": [
    "data['gender'].nunique()"
   ]
  },
  {
   "cell_type": "code",
   "execution_count": null,
   "id": "2172ab94-33d4-486e-a584-7140a12b79f7",
   "metadata": {},
   "outputs": [],
   "source": []
  }
 ],
 "metadata": {
  "kernelspec": {
   "display_name": "Python 3 (ipykernel)",
   "language": "python",
   "name": "python3"
  },
  "language_info": {
   "codemirror_mode": {
    "name": "ipython",
    "version": 3
   },
   "file_extension": ".py",
   "mimetype": "text/x-python",
   "name": "python",
   "nbconvert_exporter": "python",
   "pygments_lexer": "ipython3",
   "version": "3.11.7"
  }
 },
 "nbformat": 4,
 "nbformat_minor": 5
}
