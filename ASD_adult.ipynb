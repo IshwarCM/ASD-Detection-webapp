{
 "cells": [
  {
   "cell_type": "code",
   "execution_count": 109,
   "id": "962e8181-51e9-4932-8516-ce0725195203",
   "metadata": {},
   "outputs": [],
   "source": [
    "import pandas as pd\n",
    "import numpy as np\n",
    "import seaborn as sns\n",
    "import matplotlib.pyplot as plt\n",
    "import plotly.express as px\n",
    "from plotly.subplots import make_subplots\n",
    "import plotly.graph_objects as go\n",
    "from sklearn.impute import SimpleImputer\n",
    "import warnings\n",
    "warnings.filterwarnings('ignore')"
   ]
  },
  {
   "cell_type": "code",
   "execution_count": 110,
   "id": "b3beedfe-c7aa-43c4-996d-c7adbdd3a3e3",
   "metadata": {},
   "outputs": [],
   "source": [
    "data=pd.read_csv(\"C:/Users/ishwa/OneDrive/Desktop/Project/Autism-Adult-Data.csv\",na_values=['?'])"
   ]
  },
  {
   "cell_type": "code",
   "execution_count": 111,
   "id": "ad1f49b9-5109-4707-8beb-d3a968859d9c",
   "metadata": {},
   "outputs": [
    {
     "data": {
      "text/html": [
       "<div>\n",
       "<style scoped>\n",
       "    .dataframe tbody tr th:only-of-type {\n",
       "        vertical-align: middle;\n",
       "    }\n",
       "\n",
       "    .dataframe tbody tr th {\n",
       "        vertical-align: top;\n",
       "    }\n",
       "\n",
       "    .dataframe thead th {\n",
       "        text-align: right;\n",
       "    }\n",
       "</style>\n",
       "<table border=\"1\" class=\"dataframe\">\n",
       "  <thead>\n",
       "    <tr style=\"text-align: right;\">\n",
       "      <th></th>\n",
       "      <th>A1_Score</th>\n",
       "      <th>A2_Score</th>\n",
       "      <th>A3_Score</th>\n",
       "      <th>A4_Score</th>\n",
       "      <th>A5_Score</th>\n",
       "      <th>A6_Score</th>\n",
       "      <th>A7_Score</th>\n",
       "      <th>A8_Score</th>\n",
       "      <th>A9_Score</th>\n",
       "      <th>A10_Score</th>\n",
       "      <th>...</th>\n",
       "      <th>gender</th>\n",
       "      <th>ethnicity</th>\n",
       "      <th>jundice</th>\n",
       "      <th>austim</th>\n",
       "      <th>contry_of_res</th>\n",
       "      <th>used_app_before</th>\n",
       "      <th>result</th>\n",
       "      <th>age_desc</th>\n",
       "      <th>relation</th>\n",
       "      <th>Class/ASD</th>\n",
       "    </tr>\n",
       "  </thead>\n",
       "  <tbody>\n",
       "    <tr>\n",
       "      <th>0</th>\n",
       "      <td>1</td>\n",
       "      <td>1</td>\n",
       "      <td>1</td>\n",
       "      <td>1</td>\n",
       "      <td>0</td>\n",
       "      <td>0</td>\n",
       "      <td>1</td>\n",
       "      <td>1</td>\n",
       "      <td>0</td>\n",
       "      <td>0</td>\n",
       "      <td>...</td>\n",
       "      <td>f</td>\n",
       "      <td>White-European</td>\n",
       "      <td>no</td>\n",
       "      <td>no</td>\n",
       "      <td>United States</td>\n",
       "      <td>no</td>\n",
       "      <td>6.0</td>\n",
       "      <td>18 and more</td>\n",
       "      <td>Self</td>\n",
       "      <td>NO</td>\n",
       "    </tr>\n",
       "    <tr>\n",
       "      <th>1</th>\n",
       "      <td>1</td>\n",
       "      <td>1</td>\n",
       "      <td>0</td>\n",
       "      <td>1</td>\n",
       "      <td>0</td>\n",
       "      <td>0</td>\n",
       "      <td>0</td>\n",
       "      <td>1</td>\n",
       "      <td>0</td>\n",
       "      <td>1</td>\n",
       "      <td>...</td>\n",
       "      <td>m</td>\n",
       "      <td>Latino</td>\n",
       "      <td>no</td>\n",
       "      <td>yes</td>\n",
       "      <td>Brazil</td>\n",
       "      <td>no</td>\n",
       "      <td>5.0</td>\n",
       "      <td>18 and more</td>\n",
       "      <td>Self</td>\n",
       "      <td>NO</td>\n",
       "    </tr>\n",
       "    <tr>\n",
       "      <th>2</th>\n",
       "      <td>1</td>\n",
       "      <td>1</td>\n",
       "      <td>0</td>\n",
       "      <td>1</td>\n",
       "      <td>1</td>\n",
       "      <td>0</td>\n",
       "      <td>1</td>\n",
       "      <td>1</td>\n",
       "      <td>1</td>\n",
       "      <td>1</td>\n",
       "      <td>...</td>\n",
       "      <td>m</td>\n",
       "      <td>Latino</td>\n",
       "      <td>yes</td>\n",
       "      <td>yes</td>\n",
       "      <td>Spain</td>\n",
       "      <td>no</td>\n",
       "      <td>8.0</td>\n",
       "      <td>18 and more</td>\n",
       "      <td>Parent</td>\n",
       "      <td>YES</td>\n",
       "    </tr>\n",
       "    <tr>\n",
       "      <th>3</th>\n",
       "      <td>1</td>\n",
       "      <td>1</td>\n",
       "      <td>0</td>\n",
       "      <td>1</td>\n",
       "      <td>0</td>\n",
       "      <td>0</td>\n",
       "      <td>1</td>\n",
       "      <td>1</td>\n",
       "      <td>0</td>\n",
       "      <td>1</td>\n",
       "      <td>...</td>\n",
       "      <td>f</td>\n",
       "      <td>White-European</td>\n",
       "      <td>no</td>\n",
       "      <td>yes</td>\n",
       "      <td>United States</td>\n",
       "      <td>no</td>\n",
       "      <td>6.0</td>\n",
       "      <td>18 and more</td>\n",
       "      <td>Self</td>\n",
       "      <td>NO</td>\n",
       "    </tr>\n",
       "    <tr>\n",
       "      <th>4</th>\n",
       "      <td>1</td>\n",
       "      <td>0</td>\n",
       "      <td>0</td>\n",
       "      <td>0</td>\n",
       "      <td>0</td>\n",
       "      <td>0</td>\n",
       "      <td>0</td>\n",
       "      <td>1</td>\n",
       "      <td>0</td>\n",
       "      <td>0</td>\n",
       "      <td>...</td>\n",
       "      <td>f</td>\n",
       "      <td>NaN</td>\n",
       "      <td>no</td>\n",
       "      <td>no</td>\n",
       "      <td>Egypt</td>\n",
       "      <td>no</td>\n",
       "      <td>2.0</td>\n",
       "      <td>18 and more</td>\n",
       "      <td>NaN</td>\n",
       "      <td>NO</td>\n",
       "    </tr>\n",
       "    <tr>\n",
       "      <th>...</th>\n",
       "      <td>...</td>\n",
       "      <td>...</td>\n",
       "      <td>...</td>\n",
       "      <td>...</td>\n",
       "      <td>...</td>\n",
       "      <td>...</td>\n",
       "      <td>...</td>\n",
       "      <td>...</td>\n",
       "      <td>...</td>\n",
       "      <td>...</td>\n",
       "      <td>...</td>\n",
       "      <td>...</td>\n",
       "      <td>...</td>\n",
       "      <td>...</td>\n",
       "      <td>...</td>\n",
       "      <td>...</td>\n",
       "      <td>...</td>\n",
       "      <td>...</td>\n",
       "      <td>...</td>\n",
       "      <td>...</td>\n",
       "      <td>...</td>\n",
       "    </tr>\n",
       "    <tr>\n",
       "      <th>699</th>\n",
       "      <td>0</td>\n",
       "      <td>1</td>\n",
       "      <td>0</td>\n",
       "      <td>1</td>\n",
       "      <td>1</td>\n",
       "      <td>0</td>\n",
       "      <td>1</td>\n",
       "      <td>1</td>\n",
       "      <td>1</td>\n",
       "      <td>1</td>\n",
       "      <td>...</td>\n",
       "      <td>f</td>\n",
       "      <td>White-European</td>\n",
       "      <td>no</td>\n",
       "      <td>no</td>\n",
       "      <td>Russia</td>\n",
       "      <td>no</td>\n",
       "      <td>7.0</td>\n",
       "      <td>18 and more</td>\n",
       "      <td>Self</td>\n",
       "      <td>YES</td>\n",
       "    </tr>\n",
       "    <tr>\n",
       "      <th>700</th>\n",
       "      <td>1</td>\n",
       "      <td>0</td>\n",
       "      <td>0</td>\n",
       "      <td>0</td>\n",
       "      <td>0</td>\n",
       "      <td>0</td>\n",
       "      <td>0</td>\n",
       "      <td>1</td>\n",
       "      <td>0</td>\n",
       "      <td>1</td>\n",
       "      <td>...</td>\n",
       "      <td>m</td>\n",
       "      <td>Hispanic</td>\n",
       "      <td>no</td>\n",
       "      <td>no</td>\n",
       "      <td>Mexico</td>\n",
       "      <td>no</td>\n",
       "      <td>3.0</td>\n",
       "      <td>18 and more</td>\n",
       "      <td>Parent</td>\n",
       "      <td>NO</td>\n",
       "    </tr>\n",
       "    <tr>\n",
       "      <th>701</th>\n",
       "      <td>1</td>\n",
       "      <td>0</td>\n",
       "      <td>1</td>\n",
       "      <td>1</td>\n",
       "      <td>1</td>\n",
       "      <td>0</td>\n",
       "      <td>1</td>\n",
       "      <td>1</td>\n",
       "      <td>0</td>\n",
       "      <td>1</td>\n",
       "      <td>...</td>\n",
       "      <td>f</td>\n",
       "      <td>NaN</td>\n",
       "      <td>no</td>\n",
       "      <td>no</td>\n",
       "      <td>Russia</td>\n",
       "      <td>no</td>\n",
       "      <td>7.0</td>\n",
       "      <td>18 and more</td>\n",
       "      <td>NaN</td>\n",
       "      <td>YES</td>\n",
       "    </tr>\n",
       "    <tr>\n",
       "      <th>702</th>\n",
       "      <td>1</td>\n",
       "      <td>0</td>\n",
       "      <td>0</td>\n",
       "      <td>1</td>\n",
       "      <td>1</td>\n",
       "      <td>0</td>\n",
       "      <td>1</td>\n",
       "      <td>0</td>\n",
       "      <td>1</td>\n",
       "      <td>1</td>\n",
       "      <td>...</td>\n",
       "      <td>m</td>\n",
       "      <td>South Asian</td>\n",
       "      <td>no</td>\n",
       "      <td>no</td>\n",
       "      <td>Pakistan</td>\n",
       "      <td>no</td>\n",
       "      <td>6.0</td>\n",
       "      <td>18 and more</td>\n",
       "      <td>Self</td>\n",
       "      <td>NO</td>\n",
       "    </tr>\n",
       "    <tr>\n",
       "      <th>703</th>\n",
       "      <td>1</td>\n",
       "      <td>0</td>\n",
       "      <td>1</td>\n",
       "      <td>1</td>\n",
       "      <td>1</td>\n",
       "      <td>0</td>\n",
       "      <td>1</td>\n",
       "      <td>1</td>\n",
       "      <td>1</td>\n",
       "      <td>1</td>\n",
       "      <td>...</td>\n",
       "      <td>f</td>\n",
       "      <td>White-European</td>\n",
       "      <td>no</td>\n",
       "      <td>no</td>\n",
       "      <td>Cyprus</td>\n",
       "      <td>no</td>\n",
       "      <td>8.0</td>\n",
       "      <td>18 and more</td>\n",
       "      <td>Self</td>\n",
       "      <td>YES</td>\n",
       "    </tr>\n",
       "  </tbody>\n",
       "</table>\n",
       "<p>704 rows × 21 columns</p>\n",
       "</div>"
      ],
      "text/plain": [
       "     A1_Score  A2_Score  A3_Score  A4_Score  A5_Score  A6_Score  A7_Score  \\\n",
       "0           1         1         1         1         0         0         1   \n",
       "1           1         1         0         1         0         0         0   \n",
       "2           1         1         0         1         1         0         1   \n",
       "3           1         1         0         1         0         0         1   \n",
       "4           1         0         0         0         0         0         0   \n",
       "..        ...       ...       ...       ...       ...       ...       ...   \n",
       "699         0         1         0         1         1         0         1   \n",
       "700         1         0         0         0         0         0         0   \n",
       "701         1         0         1         1         1         0         1   \n",
       "702         1         0         0         1         1         0         1   \n",
       "703         1         0         1         1         1         0         1   \n",
       "\n",
       "     A8_Score  A9_Score  A10_Score  ...  gender       ethnicity jundice  \\\n",
       "0           1         0          0  ...       f  White-European      no   \n",
       "1           1         0          1  ...       m          Latino      no   \n",
       "2           1         1          1  ...       m          Latino     yes   \n",
       "3           1         0          1  ...       f  White-European      no   \n",
       "4           1         0          0  ...       f             NaN      no   \n",
       "..        ...       ...        ...  ...     ...             ...     ...   \n",
       "699         1         1          1  ...       f  White-European      no   \n",
       "700         1         0          1  ...       m        Hispanic      no   \n",
       "701         1         0          1  ...       f             NaN      no   \n",
       "702         0         1          1  ...       m     South Asian      no   \n",
       "703         1         1          1  ...       f  White-European      no   \n",
       "\n",
       "    austim  contry_of_res used_app_before result     age_desc relation  \\\n",
       "0       no  United States              no    6.0  18 and more     Self   \n",
       "1      yes         Brazil              no    5.0  18 and more     Self   \n",
       "2      yes          Spain              no    8.0  18 and more   Parent   \n",
       "3      yes  United States              no    6.0  18 and more     Self   \n",
       "4       no          Egypt              no    2.0  18 and more      NaN   \n",
       "..     ...            ...             ...    ...          ...      ...   \n",
       "699     no         Russia              no    7.0  18 and more     Self   \n",
       "700     no         Mexico              no    3.0  18 and more   Parent   \n",
       "701     no         Russia              no    7.0  18 and more      NaN   \n",
       "702     no       Pakistan              no    6.0  18 and more     Self   \n",
       "703     no         Cyprus              no    8.0  18 and more     Self   \n",
       "\n",
       "    Class/ASD  \n",
       "0          NO  \n",
       "1          NO  \n",
       "2         YES  \n",
       "3          NO  \n",
       "4          NO  \n",
       "..        ...  \n",
       "699       YES  \n",
       "700        NO  \n",
       "701       YES  \n",
       "702        NO  \n",
       "703       YES  \n",
       "\n",
       "[704 rows x 21 columns]"
      ]
     },
     "execution_count": 111,
     "metadata": {},
     "output_type": "execute_result"
    }
   ],
   "source": [
    "data"
   ]
  },
  {
   "cell_type": "code",
   "execution_count": 112,
   "id": "0ecbdde4-8bac-41be-8da4-b7c0fe44e1fc",
   "metadata": {},
   "outputs": [
    {
     "name": "stdout",
     "output_type": "stream",
     "text": [
      "<class 'pandas.core.frame.DataFrame'>\n",
      "RangeIndex: 704 entries, 0 to 703\n",
      "Data columns (total 21 columns):\n",
      " #   Column           Non-Null Count  Dtype  \n",
      "---  ------           --------------  -----  \n",
      " 0   A1_Score         704 non-null    int64  \n",
      " 1   A2_Score         704 non-null    int64  \n",
      " 2   A3_Score         704 non-null    int64  \n",
      " 3   A4_Score         704 non-null    int64  \n",
      " 4   A5_Score         704 non-null    int64  \n",
      " 5   A6_Score         704 non-null    int64  \n",
      " 6   A7_Score         704 non-null    int64  \n",
      " 7   A8_Score         704 non-null    int64  \n",
      " 8   A9_Score         704 non-null    int64  \n",
      " 9   A10_Score        704 non-null    int64  \n",
      " 10  age              702 non-null    float64\n",
      " 11  gender           704 non-null    object \n",
      " 12  ethnicity        609 non-null    object \n",
      " 13  jundice          704 non-null    object \n",
      " 14  austim           704 non-null    object \n",
      " 15  contry_of_res    704 non-null    object \n",
      " 16  used_app_before  704 non-null    object \n",
      " 17  result           704 non-null    float64\n",
      " 18  age_desc         704 non-null    object \n",
      " 19  relation         609 non-null    object \n",
      " 20  Class/ASD        704 non-null    object \n",
      "dtypes: float64(2), int64(10), object(9)\n",
      "memory usage: 115.6+ KB\n"
     ]
    }
   ],
   "source": [
    "data.info()"
   ]
  },
  {
   "cell_type": "code",
   "execution_count": 113,
   "id": "888a2c76-1743-41a7-8dff-3ce4a175fe9d",
   "metadata": {},
   "outputs": [
    {
     "data": {
      "text/plain": [
       "(704, 21)"
      ]
     },
     "execution_count": 113,
     "metadata": {},
     "output_type": "execute_result"
    }
   ],
   "source": [
    "data.shape"
   ]
  },
  {
   "cell_type": "code",
   "execution_count": 114,
   "id": "e96bb215-4b48-4cd5-87eb-dc69a023bcce",
   "metadata": {},
   "outputs": [
    {
     "data": {
      "text/html": [
       "<div>\n",
       "<style scoped>\n",
       "    .dataframe tbody tr th:only-of-type {\n",
       "        vertical-align: middle;\n",
       "    }\n",
       "\n",
       "    .dataframe tbody tr th {\n",
       "        vertical-align: top;\n",
       "    }\n",
       "\n",
       "    .dataframe thead th {\n",
       "        text-align: right;\n",
       "    }\n",
       "</style>\n",
       "<table border=\"1\" class=\"dataframe\">\n",
       "  <thead>\n",
       "    <tr style=\"text-align: right;\">\n",
       "      <th></th>\n",
       "      <th>A1_Score</th>\n",
       "      <th>A2_Score</th>\n",
       "      <th>A3_Score</th>\n",
       "      <th>A4_Score</th>\n",
       "      <th>A5_Score</th>\n",
       "      <th>A6_Score</th>\n",
       "      <th>A7_Score</th>\n",
       "      <th>A8_Score</th>\n",
       "      <th>A9_Score</th>\n",
       "      <th>A10_Score</th>\n",
       "      <th>age</th>\n",
       "      <th>result</th>\n",
       "    </tr>\n",
       "  </thead>\n",
       "  <tbody>\n",
       "    <tr>\n",
       "      <th>count</th>\n",
       "      <td>704.000000</td>\n",
       "      <td>704.000000</td>\n",
       "      <td>704.000000</td>\n",
       "      <td>704.000000</td>\n",
       "      <td>704.000000</td>\n",
       "      <td>704.000000</td>\n",
       "      <td>704.000000</td>\n",
       "      <td>704.000000</td>\n",
       "      <td>704.000000</td>\n",
       "      <td>704.000000</td>\n",
       "      <td>702.000000</td>\n",
       "      <td>704.000000</td>\n",
       "    </tr>\n",
       "    <tr>\n",
       "      <th>mean</th>\n",
       "      <td>0.721591</td>\n",
       "      <td>0.453125</td>\n",
       "      <td>0.457386</td>\n",
       "      <td>0.495739</td>\n",
       "      <td>0.498580</td>\n",
       "      <td>0.284091</td>\n",
       "      <td>0.417614</td>\n",
       "      <td>0.649148</td>\n",
       "      <td>0.323864</td>\n",
       "      <td>0.573864</td>\n",
       "      <td>29.698006</td>\n",
       "      <td>4.875000</td>\n",
       "    </tr>\n",
       "    <tr>\n",
       "      <th>std</th>\n",
       "      <td>0.448535</td>\n",
       "      <td>0.498152</td>\n",
       "      <td>0.498535</td>\n",
       "      <td>0.500337</td>\n",
       "      <td>0.500353</td>\n",
       "      <td>0.451301</td>\n",
       "      <td>0.493516</td>\n",
       "      <td>0.477576</td>\n",
       "      <td>0.468281</td>\n",
       "      <td>0.494866</td>\n",
       "      <td>16.507465</td>\n",
       "      <td>2.501493</td>\n",
       "    </tr>\n",
       "    <tr>\n",
       "      <th>min</th>\n",
       "      <td>0.000000</td>\n",
       "      <td>0.000000</td>\n",
       "      <td>0.000000</td>\n",
       "      <td>0.000000</td>\n",
       "      <td>0.000000</td>\n",
       "      <td>0.000000</td>\n",
       "      <td>0.000000</td>\n",
       "      <td>0.000000</td>\n",
       "      <td>0.000000</td>\n",
       "      <td>0.000000</td>\n",
       "      <td>17.000000</td>\n",
       "      <td>0.000000</td>\n",
       "    </tr>\n",
       "    <tr>\n",
       "      <th>25%</th>\n",
       "      <td>0.000000</td>\n",
       "      <td>0.000000</td>\n",
       "      <td>0.000000</td>\n",
       "      <td>0.000000</td>\n",
       "      <td>0.000000</td>\n",
       "      <td>0.000000</td>\n",
       "      <td>0.000000</td>\n",
       "      <td>0.000000</td>\n",
       "      <td>0.000000</td>\n",
       "      <td>0.000000</td>\n",
       "      <td>21.000000</td>\n",
       "      <td>3.000000</td>\n",
       "    </tr>\n",
       "    <tr>\n",
       "      <th>50%</th>\n",
       "      <td>1.000000</td>\n",
       "      <td>0.000000</td>\n",
       "      <td>0.000000</td>\n",
       "      <td>0.000000</td>\n",
       "      <td>0.000000</td>\n",
       "      <td>0.000000</td>\n",
       "      <td>0.000000</td>\n",
       "      <td>1.000000</td>\n",
       "      <td>0.000000</td>\n",
       "      <td>1.000000</td>\n",
       "      <td>27.000000</td>\n",
       "      <td>4.000000</td>\n",
       "    </tr>\n",
       "    <tr>\n",
       "      <th>75%</th>\n",
       "      <td>1.000000</td>\n",
       "      <td>1.000000</td>\n",
       "      <td>1.000000</td>\n",
       "      <td>1.000000</td>\n",
       "      <td>1.000000</td>\n",
       "      <td>1.000000</td>\n",
       "      <td>1.000000</td>\n",
       "      <td>1.000000</td>\n",
       "      <td>1.000000</td>\n",
       "      <td>1.000000</td>\n",
       "      <td>35.000000</td>\n",
       "      <td>7.000000</td>\n",
       "    </tr>\n",
       "    <tr>\n",
       "      <th>max</th>\n",
       "      <td>1.000000</td>\n",
       "      <td>1.000000</td>\n",
       "      <td>1.000000</td>\n",
       "      <td>1.000000</td>\n",
       "      <td>1.000000</td>\n",
       "      <td>1.000000</td>\n",
       "      <td>1.000000</td>\n",
       "      <td>1.000000</td>\n",
       "      <td>1.000000</td>\n",
       "      <td>1.000000</td>\n",
       "      <td>383.000000</td>\n",
       "      <td>10.000000</td>\n",
       "    </tr>\n",
       "  </tbody>\n",
       "</table>\n",
       "</div>"
      ],
      "text/plain": [
       "         A1_Score    A2_Score    A3_Score    A4_Score    A5_Score    A6_Score  \\\n",
       "count  704.000000  704.000000  704.000000  704.000000  704.000000  704.000000   \n",
       "mean     0.721591    0.453125    0.457386    0.495739    0.498580    0.284091   \n",
       "std      0.448535    0.498152    0.498535    0.500337    0.500353    0.451301   \n",
       "min      0.000000    0.000000    0.000000    0.000000    0.000000    0.000000   \n",
       "25%      0.000000    0.000000    0.000000    0.000000    0.000000    0.000000   \n",
       "50%      1.000000    0.000000    0.000000    0.000000    0.000000    0.000000   \n",
       "75%      1.000000    1.000000    1.000000    1.000000    1.000000    1.000000   \n",
       "max      1.000000    1.000000    1.000000    1.000000    1.000000    1.000000   \n",
       "\n",
       "         A7_Score    A8_Score    A9_Score   A10_Score         age      result  \n",
       "count  704.000000  704.000000  704.000000  704.000000  702.000000  704.000000  \n",
       "mean     0.417614    0.649148    0.323864    0.573864   29.698006    4.875000  \n",
       "std      0.493516    0.477576    0.468281    0.494866   16.507465    2.501493  \n",
       "min      0.000000    0.000000    0.000000    0.000000   17.000000    0.000000  \n",
       "25%      0.000000    0.000000    0.000000    0.000000   21.000000    3.000000  \n",
       "50%      0.000000    1.000000    0.000000    1.000000   27.000000    4.000000  \n",
       "75%      1.000000    1.000000    1.000000    1.000000   35.000000    7.000000  \n",
       "max      1.000000    1.000000    1.000000    1.000000  383.000000   10.000000  "
      ]
     },
     "execution_count": 114,
     "metadata": {},
     "output_type": "execute_result"
    }
   ],
   "source": [
    "data.describe()"
   ]
  },
  {
   "cell_type": "code",
   "execution_count": 115,
   "id": "0b5d4b63-90d8-4348-a0ec-a16aec124742",
   "metadata": {},
   "outputs": [
    {
     "name": "stdout",
     "output_type": "stream",
     "text": [
      "Total no. of missing values in Adults's dataset     :  192\n"
     ]
    }
   ],
   "source": [
    "print(\"Total no. of missing values in Adults's dataset     : \",data.isnull().sum().sum())"
   ]
  },
  {
   "cell_type": "code",
   "execution_count": 116,
   "id": "c98d62b3-3ad5-4632-ba1d-a8a63c7cd6d7",
   "metadata": {},
   "outputs": [
    {
     "data": {
      "text/plain": [
       "A1_Score            0\n",
       "A2_Score            0\n",
       "A3_Score            0\n",
       "A4_Score            0\n",
       "A5_Score            0\n",
       "A6_Score            0\n",
       "A7_Score            0\n",
       "A8_Score            0\n",
       "A9_Score            0\n",
       "A10_Score           0\n",
       "age                 2\n",
       "gender              0\n",
       "ethnicity          95\n",
       "jundice             0\n",
       "austim              0\n",
       "contry_of_res       0\n",
       "used_app_before     0\n",
       "result              0\n",
       "age_desc            0\n",
       "relation           95\n",
       "Class/ASD           0\n",
       "dtype: int64"
      ]
     },
     "execution_count": 116,
     "metadata": {},
     "output_type": "execute_result"
    }
   ],
   "source": [
    "data.isnull().sum()"
   ]
  },
  {
   "cell_type": "code",
   "execution_count": 117,
   "id": "e652a83b-5da0-460d-a7e8-230f9dd4c2ab",
   "metadata": {},
   "outputs": [
    {
     "data": {
      "image/png": "[encoded data removed]",
      "text/plain": [
       "<Figure size 550x500 with 1 Axes>"
      ]
     },
     "metadata": {},
     "output_type": "display_data"
    }
   ],
   "source": [
    "fig, ax = plt.subplots(figsize=(5.5,5))\n",
    "\n",
    "sns.heatmap(data.isnull(),yticklabels=False,cbar=False,cmap='rocket',ax=ax)\n",
    "ax.set_title(\"Adults's dataset\",fontsize = 15)\n",
    "fig.tight_layout()\n",
    "plt.savefig('heatmap_adu.pdf', transparent=True, dpi=300)"
   ]
  },
  {
   "cell_type": "code",
   "execution_count": 118,
   "id": "9d4ecdbc-dc51-45c0-abca-3ec6c262ddc8",
   "metadata": {},
   "outputs": [
    {
     "name": "stdout",
     "output_type": "stream",
     "text": [
      "No of adults diagonised with ASD =  189\n",
      "No of adults not diagonised with ASD =  515\n"
     ]
    }
   ],
   "source": [
    "print(\"No of adults diagonised with ASD = \",len(data[data['Class/ASD'] == 'YES']))\n",
    "print(\"No of adults not diagonised with ASD = \",len(data[data['Class/ASD'] == 'NO']))"
   ]
  },
  {
   "cell_type": "code",
   "execution_count": 119,
   "id": "359633a2-0013-4ec8-928f-f972f3fdad5c",
   "metadata": {},
   "outputs": [],
   "source": [
    "# #Data distribution\n",
    "# fig, ax = plt.subplots(figsize=(5, 5))\n",
    "# sns.countplot(data['Class/ASD'],ax=ax)\n",
    "# ax.set_title(\"Adults's dataset\",fontsize = 15)\n",
    "# fig.tight_layout()\n",
    "# plt.savefig('distribution_adu.pdf', transparent=True, dpi=300)"
   ]
  },
  {
   "cell_type": "code",
   "execution_count": 120,
   "id": "01058e73-cac7-4754-862c-2333d9f65159",
   "metadata": {},
   "outputs": [],
   "source": [
    "# #Correlation\n",
    "# fig, ax = plt.subplots(figsize=(10,7))\n",
    "# sns.heatmap(data.corr(),annot=True,cmap='coolwarm',vmin=0, vmax=1,ax=ax)\n",
    "# ax.set_title(\"Adults's dataset\",fontsize = 15)\n",
    "# fig.tight_layout()\n",
    "# plt.savefig('correlation_adu.pdf', transparent=True, dpi=300)"
   ]
  },
  {
   "cell_type": "code",
   "execution_count": 121,
   "id": "2c47ac6f-82c3-49c5-9a37-2232ad9b3453",
   "metadata": {},
   "outputs": [
    {
     "name": "stdout",
     "output_type": "stream",
     "text": [
      "No of missing values in Adults's dataset      =  192\n"
     ]
    }
   ],
   "source": [
    "print(\"No of missing values in Adults's dataset      = \",data.isnull().sum().sum())"
   ]
  },
  {
   "cell_type": "code",
   "execution_count": 122,
   "id": "a0089fe8-42fe-482f-9054-3377553426f6",
   "metadata": {},
   "outputs": [],
   "source": [
    "#Imputing missing values of categorical features with mode\n",
    "imputer_mode = SimpleImputer(missing_values=np.NaN, strategy='most_frequent')\n",
    "\n",
    "data.ethnicity = imputer_mode.fit_transform(data.ethnicity.values.reshape(-1,1))[:,0]\n",
    "data.relation = imputer_mode.fit_transform(data.relation.values.reshape(-1,1))[:,0]\n",
    "\n",
    "#Imputing missing values of numerical features with mean\n",
    "imputer_mode = SimpleImputer(missing_values=np.NaN, strategy='mean')\n",
    "data.age = imputer_mode.fit_transform(data.age.values.reshape(-1,1))[:,0]"
   ]
  },
  {
   "cell_type": "code",
   "execution_count": 123,
   "id": "af86d839-a839-48da-bf0d-f481c04156f2",
   "metadata": {},
   "outputs": [
    {
     "name": "stdout",
     "output_type": "stream",
     "text": [
      "After imputing,\n",
      "No of missing values in Adults's dataset      =  0\n"
     ]
    }
   ],
   "source": [
    "print(\"After imputing,\\nNo of missing values in Adults's dataset      = \",data.isnull().sum().sum())"
   ]
  },
  {
   "cell_type": "code",
   "execution_count": 124,
   "id": "8108fe7f-3385-4a51-af41-8745beed93b0",
   "metadata": {},
   "outputs": [],
   "source": [
    "#Since age of toddlers are represented in months, age(in years) of adults is converted to age in months.\n",
    "data.rename(columns = {'age':'Age_Mons'}, inplace = True)\n",
    "\n",
    "data['Age_Mons'] = data['Age_Mons']*12"
   ]
  },
  {
   "cell_type": "code",
   "execution_count": 125,
   "id": "eecea25c-b60d-42f2-80cb-acada22521d7",
   "metadata": {},
   "outputs": [],
   "source": [
    "#Making classes of categorical variables same for all datasets\n",
    "data['ethnicity'] = data['ethnicity'].replace('Others','others')"
   ]
  },
  {
   "cell_type": "markdown",
   "id": "a96ca435-a682-476e-8d9d-f9a3080da556",
   "metadata": {},
   "source": [
    "# Model fitting"
   ]
  },
  {
   "cell_type": "code",
   "execution_count": 127,
   "id": "b7a953fa-a8b6-4bd9-90df-05e3624dba05",
   "metadata": {},
   "outputs": [],
   "source": [
    "shuffled_data = data.sample(frac=1,random_state=4)\n",
    "ASD_data = shuffled_data.loc[shuffled_data['Class/ASD'] == 'YES']\n",
    "non_ASD_data = shuffled_data.loc[shuffled_data['Class/ASD'] == 'NO'].sample(n=189)\n",
    "data= pd.concat([ASD_data, non_ASD_data])"
   ]
  },
  {
   "cell_type": "code",
   "execution_count": 128,
   "id": "1d59d78b-8a37-4dc9-9a6b-89d5eb4f8ee8",
   "metadata": {},
   "outputs": [],
   "source": [
    "# Split the data into features and target label\n",
    "raw_target= data['Class/ASD']\n",
    "raw_features = data[['A1_Score','A2_Score','A3_Score','A4_Score','A5_Score','A6_Score','A7_Score','A8_Score','A9_Score','A10_Score','Age_Mons', 'gender', 'ethnicity', 'jundice', 'austim', 'contry_of_res', 'result','relation']]"
   ]
  },
  {
   "cell_type": "code",
   "execution_count": 129,
   "id": "ae2dab45-8bcd-47ac-8b20-29fa8420ee0e",
   "metadata": {},
   "outputs": [],
   "source": [
    "# Feature Scaling"
   ]
  },
  {
   "cell_type": "code",
   "execution_count": 130,
   "id": "021629d5-82e7-43ca-86bc-baaf05bee01f",
   "metadata": {},
   "outputs": [],
   "source": [
    "from sklearn.preprocessing import MinMaxScaler\n",
    "scaler = MinMaxScaler()\n",
    "num_features = ['Age_Mons', 'result']\n",
    "\n",
    "features_minmax_transform = pd.DataFrame(data = raw_features)\n",
    "features_minmax_transform[num_features] = scaler.fit_transform(raw_features[num_features])"
   ]
  },
  {
   "cell_type": "code",
   "execution_count": 131,
   "id": "c60cda52-3140-4a5f-bb0e-8043c1ecc582",
   "metadata": {},
   "outputs": [
    {
     "data": {
      "text/html": [
       "<div>\n",
       "<style scoped>\n",
       "    .dataframe tbody tr th:only-of-type {\n",
       "        vertical-align: middle;\n",
       "    }\n",
       "\n",
       "    .dataframe tbody tr th {\n",
       "        vertical-align: top;\n",
       "    }\n",
       "\n",
       "    .dataframe thead th {\n",
       "        text-align: right;\n",
       "    }\n",
       "</style>\n",
       "<table border=\"1\" class=\"dataframe\">\n",
       "  <thead>\n",
       "    <tr style=\"text-align: right;\">\n",
       "      <th></th>\n",
       "      <th>A1_Score</th>\n",
       "      <th>A2_Score</th>\n",
       "      <th>A3_Score</th>\n",
       "      <th>A4_Score</th>\n",
       "      <th>A5_Score</th>\n",
       "      <th>A6_Score</th>\n",
       "      <th>A7_Score</th>\n",
       "      <th>A8_Score</th>\n",
       "      <th>A9_Score</th>\n",
       "      <th>A10_Score</th>\n",
       "      <th>Age_Mons</th>\n",
       "      <th>gender</th>\n",
       "      <th>ethnicity</th>\n",
       "      <th>jundice</th>\n",
       "      <th>austim</th>\n",
       "      <th>contry_of_res</th>\n",
       "      <th>result</th>\n",
       "      <th>relation</th>\n",
       "    </tr>\n",
       "  </thead>\n",
       "  <tbody>\n",
       "    <tr>\n",
       "      <th>146</th>\n",
       "      <td>1</td>\n",
       "      <td>0</td>\n",
       "      <td>1</td>\n",
       "      <td>1</td>\n",
       "      <td>1</td>\n",
       "      <td>1</td>\n",
       "      <td>1</td>\n",
       "      <td>1</td>\n",
       "      <td>1</td>\n",
       "      <td>1</td>\n",
       "      <td>0.068182</td>\n",
       "      <td>m</td>\n",
       "      <td>White-European</td>\n",
       "      <td>no</td>\n",
       "      <td>no</td>\n",
       "      <td>Australia</td>\n",
       "      <td>0.9</td>\n",
       "      <td>Self</td>\n",
       "    </tr>\n",
       "    <tr>\n",
       "      <th>169</th>\n",
       "      <td>1</td>\n",
       "      <td>1</td>\n",
       "      <td>1</td>\n",
       "      <td>1</td>\n",
       "      <td>1</td>\n",
       "      <td>0</td>\n",
       "      <td>0</td>\n",
       "      <td>1</td>\n",
       "      <td>1</td>\n",
       "      <td>1</td>\n",
       "      <td>0.431818</td>\n",
       "      <td>f</td>\n",
       "      <td>Latino</td>\n",
       "      <td>no</td>\n",
       "      <td>yes</td>\n",
       "      <td>Brazil</td>\n",
       "      <td>0.8</td>\n",
       "      <td>Self</td>\n",
       "    </tr>\n",
       "    <tr>\n",
       "      <th>641</th>\n",
       "      <td>1</td>\n",
       "      <td>0</td>\n",
       "      <td>1</td>\n",
       "      <td>1</td>\n",
       "      <td>1</td>\n",
       "      <td>0</td>\n",
       "      <td>1</td>\n",
       "      <td>1</td>\n",
       "      <td>1</td>\n",
       "      <td>0</td>\n",
       "      <td>0.272727</td>\n",
       "      <td>m</td>\n",
       "      <td>Latino</td>\n",
       "      <td>no</td>\n",
       "      <td>no</td>\n",
       "      <td>United States</td>\n",
       "      <td>0.7</td>\n",
       "      <td>Self</td>\n",
       "    </tr>\n",
       "    <tr>\n",
       "      <th>681</th>\n",
       "      <td>1</td>\n",
       "      <td>1</td>\n",
       "      <td>0</td>\n",
       "      <td>1</td>\n",
       "      <td>1</td>\n",
       "      <td>1</td>\n",
       "      <td>1</td>\n",
       "      <td>1</td>\n",
       "      <td>1</td>\n",
       "      <td>1</td>\n",
       "      <td>0.727273</td>\n",
       "      <td>f</td>\n",
       "      <td>Hispanic</td>\n",
       "      <td>no</td>\n",
       "      <td>no</td>\n",
       "      <td>United States</td>\n",
       "      <td>0.9</td>\n",
       "      <td>Self</td>\n",
       "    </tr>\n",
       "    <tr>\n",
       "      <th>696</th>\n",
       "      <td>1</td>\n",
       "      <td>1</td>\n",
       "      <td>1</td>\n",
       "      <td>1</td>\n",
       "      <td>1</td>\n",
       "      <td>1</td>\n",
       "      <td>0</td>\n",
       "      <td>1</td>\n",
       "      <td>1</td>\n",
       "      <td>1</td>\n",
       "      <td>0.318182</td>\n",
       "      <td>m</td>\n",
       "      <td>Turkish</td>\n",
       "      <td>no</td>\n",
       "      <td>yes</td>\n",
       "      <td>Australia</td>\n",
       "      <td>0.9</td>\n",
       "      <td>Self</td>\n",
       "    </tr>\n",
       "  </tbody>\n",
       "</table>\n",
       "</div>"
      ],
      "text/plain": [
       "     A1_Score  A2_Score  A3_Score  A4_Score  A5_Score  A6_Score  A7_Score  \\\n",
       "146         1         0         1         1         1         1         1   \n",
       "169         1         1         1         1         1         0         0   \n",
       "641         1         0         1         1         1         0         1   \n",
       "681         1         1         0         1         1         1         1   \n",
       "696         1         1         1         1         1         1         0   \n",
       "\n",
       "     A8_Score  A9_Score  A10_Score  Age_Mons gender       ethnicity jundice  \\\n",
       "146         1         1          1  0.068182      m  White-European      no   \n",
       "169         1         1          1  0.431818      f          Latino      no   \n",
       "641         1         1          0  0.272727      m          Latino      no   \n",
       "681         1         1          1  0.727273      f        Hispanic      no   \n",
       "696         1         1          1  0.318182      m         Turkish      no   \n",
       "\n",
       "    austim  contry_of_res  result relation  \n",
       "146     no      Australia     0.9     Self  \n",
       "169    yes         Brazil     0.8     Self  \n",
       "641     no  United States     0.7     Self  \n",
       "681     no  United States     0.9     Self  \n",
       "696    yes      Australia     0.9     Self  "
      ]
     },
     "execution_count": 131,
     "metadata": {},
     "output_type": "execute_result"
    }
   ],
   "source": [
    "features_minmax_transform.head()"
   ]
  },
  {
   "cell_type": "code",
   "execution_count": 132,
   "id": "d250e755-a55c-4ba3-9863-e3955a3339b4",
   "metadata": {},
   "outputs": [],
   "source": [
    "# Encoding Categorical Values"
   ]
  },
  {
   "cell_type": "code",
   "execution_count": 133,
   "id": "1d30c3f3-7c84-450d-a394-8cfad3cc666f",
   "metadata": {},
   "outputs": [],
   "source": [
    "features = pd.get_dummies(features_minmax_transform)"
   ]
  },
  {
   "cell_type": "code",
   "execution_count": 134,
   "id": "5f3f1d87-d1ee-405e-8cce-859d504a2984",
   "metadata": {},
   "outputs": [],
   "source": [
    "from sklearn.preprocessing import LabelEncoder\n",
    "le = LabelEncoder()\n",
    "target = le.fit_transform(raw_target)"
   ]
  },
  {
   "cell_type": "code",
   "execution_count": 135,
   "id": "896f21fc-fa90-45bc-bf96-f4d10ef95795",
   "metadata": {},
   "outputs": [],
   "source": [
    "# Evaluation Functions "
   ]
  },
  {
   "cell_type": "code",
   "execution_count": 136,
   "id": "635c12cd-3993-425a-8c21-5a1c8dc98df0",
   "metadata": {},
   "outputs": [],
   "source": [
    "import numpy as np\n",
    "from sklearn.model_selection import learning_curve\n",
    "from sklearn.model_selection import ShuffleSplit\n",
    "\n",
    "def plot_learning_curve(estimator, title, X, y, ylim=None, cv=None, n_jobs=1, train_sizes=np.linspace(.1, 1.0, 5)):\n",
    "    plt.figure()\n",
    "    plt.title(title)\n",
    "    if ylim is not None:\n",
    "        plt.ylim(*ylim)\n",
    "    plt.xlabel(\"Training examples\")\n",
    "    plt.ylabel(\"AUC\")\n",
    "    train_sizes, train_scores, test_scores = learning_curve(\n",
    "        estimator, X, y, cv=cv, n_jobs=n_jobs, train_sizes=train_sizes, scoring = 'roc_auc')\n",
    "    train_scores_mean = np.mean(train_scores, axis=1)\n",
    "    train_scores_std = np.std(train_scores, axis=1)\n",
    "    test_scores_mean = np.mean(test_scores, axis=1)\n",
    "    test_scores_std = np.std(test_scores, axis=1)\n",
    "\n",
    "    plt.fill_between(train_sizes, train_scores_mean - train_scores_std,\n",
    "                     train_scores_mean + train_scores_std, alpha=0.1,\n",
    "                     color=\"r\")\n",
    "    plt.fill_between(train_sizes, test_scores_mean - test_scores_std,\n",
    "                     test_scores_mean + test_scores_std, alpha=0.1, color=\"b\")\n",
    "    plt.plot(train_sizes, train_scores_mean, 'o-', color=\"r\",\n",
    "             label=\"Training score\")\n",
    "    plt.plot(train_sizes, test_scores_mean, 'o-', color=\"b\",\n",
    "             label=\"Cross-validation score\")\n",
    "\n",
    "    plt.legend(loc=\"lower right\")\n",
    "    return plt"
   ]
  },
  {
   "cell_type": "code",
   "execution_count": 137,
   "id": "561dbb39-2c89-4eac-ac5e-a77e36720f03",
   "metadata": {},
   "outputs": [],
   "source": [
    "# Splitting Data"
   ]
  },
  {
   "cell_type": "code",
   "execution_count": 138,
   "id": "ab7b80e9-baaa-4093-971b-facc0432747f",
   "metadata": {},
   "outputs": [
    {
     "name": "stdout",
     "output_type": "stream",
     "text": [
      "X.shape: (378, 85)\n",
      "y.shape: (378,)\n"
     ]
    }
   ],
   "source": [
    "X = features\n",
    "y = target\n",
    "\n",
    "print('X.shape:', X.shape)\n",
    "print('y.shape:', y.shape)"
   ]
  },
  {
   "cell_type": "markdown",
   "id": "aa770d1a-a0d1-4fa5-81b3-d4e679fe8209",
   "metadata": {},
   "source": [
    "# Feature Selection "
   ]
  },
  {
   "cell_type": "code",
   "execution_count": 140,
   "id": "82023030-250d-4165-92b4-f214db47138d",
   "metadata": {},
   "outputs": [
    {
     "name": "stdout",
     "output_type": "stream",
     "text": [
      "                              Features      Score\n",
      "8                             A9_Score  85.382514\n",
      "5                             A6_Score  66.880952\n",
      "3                             A4_Score  52.804444\n",
      "4                             A5_Score  48.101215\n",
      "2                             A3_Score  40.907407\n",
      "6                             A7_Score  37.644809\n",
      "11                              result  35.744016\n",
      "9                            A10_Score  31.225806\n",
      "1                             A2_Score  23.120000\n",
      "51                 contry_of_res_India  17.789474\n",
      "77         contry_of_res_United States  16.055556\n",
      "27                          austim_yes  14.754386\n",
      "75  contry_of_res_United Arab Emirates  14.440000\n",
      "0                             A1_Score  13.546075\n",
      "56                contry_of_res_Jordan  10.888889\n",
      "7                             A8_Score   8.597015\n",
      "18           ethnicity_Middle Eastern    8.000000\n",
      "20               ethnicity_South Asian   8.000000\n",
      "14                     ethnicity_Asian   7.078431\n",
      "22            ethnicity_White-European   5.722772\n",
      "33             contry_of_res_Australia   4.000000\n",
      "57              contry_of_res_Malaysia   4.000000\n",
      "40                contry_of_res_Canada   3.769231\n",
      "53                  contry_of_res_Iran   3.000000\n",
      "71             contry_of_res_Sri Lanka   3.000000\n",
      "16                  ethnicity_Hispanic   2.666667\n",
      "39                contry_of_res_Brazil   2.666667\n",
      "26                           austim_no   2.619938\n",
      "17                    ethnicity_Latino   2.571429\n",
      "15                     ethnicity_Black   2.285714\n",
      "25                         jundice_yes   2.173913\n",
      "76        contry_of_res_United Kingdom   2.083333\n",
      "49               contry_of_res_Germany   2.000000\n",
      "69          contry_of_res_South Africa   2.000000\n",
      "72                contry_of_res_Sweden   2.000000\n",
      "74               contry_of_res_Ukraine   2.000000\n",
      "19                  ethnicity_Pasifika   1.800000\n",
      "55                 contry_of_res_Italy   1.800000\n",
      "12                            gender_f   1.723404\n",
      "13                            gender_m   1.705263\n",
      "61           contry_of_res_New Zealand   1.684211\n",
      "82                     relation_Parent   1.580645\n",
      "28           contry_of_res_Afghanistan   1.285714\n",
      "30                contry_of_res_Angola   1.000000\n",
      "32               contry_of_res_Armenia   1.000000\n",
      "34               contry_of_res_Austria   1.000000\n",
      "35            contry_of_res_Azerbaijan   1.000000\n",
      "37            contry_of_res_Bangladesh   1.000000\n",
      "41                 contry_of_res_Chile   1.000000\n",
      "42                 contry_of_res_China   1.000000\n"
     ]
    }
   ],
   "source": [
    "from sklearn.feature_selection import SelectKBest \n",
    "from sklearn.feature_selection import chi2  \n",
    "chi2_features = SelectKBest(chi2,k=75)\n",
    "fit= chi2_features.fit(X, y)\n",
    "scores = pd.DataFrame(fit.scores_)\n",
    "columns = pd.DataFrame(features.columns)\n",
    "featureScores = pd.concat([columns,scores],axis=1)\n",
    "featureScores.columns = ['Features','Score']\n",
    "print(featureScores.nlargest(50,'Score')) "
   ]
  },
  {
   "cell_type": "code",
   "execution_count": 141,
   "id": "83599176-cd50-409e-b5e1-0861a756881a",
   "metadata": {},
   "outputs": [],
   "source": [
    "from sklearn.feature_selection import SelectKBest \n",
    "from sklearn.feature_selection import chi2  \n",
    "# 700 features with highest chi-squared statistics are selected \n",
    "chi2_features = SelectKBest(chi2,k=75)\n",
    "X = chi2_features.fit_transform(X, y)\n",
    "y = target"
   ]
  },
  {
   "cell_type": "code",
   "execution_count": 142,
   "id": "b8a39132-25df-49ce-9e3d-f9ce5fae3d30",
   "metadata": {},
   "outputs": [],
   "source": [
    "#Splitting the data into train test spit\n",
    "from sklearn.model_selection import train_test_split\n",
    "X_train, X_test, y_train, y_test = train_test_split(X, y, test_size = 0.20, random_state = 42)"
   ]
  },
  {
   "cell_type": "markdown",
   "id": "992de57a-f213-41c6-a3d1-5b5f4cc3e4a6",
   "metadata": {},
   "source": [
    "# Logistic Regression"
   ]
  },
  {
   "cell_type": "code",
   "execution_count": 144,
   "id": "16d97bb3-d87c-4bdb-ab89-5fedfffb103a",
   "metadata": {},
   "outputs": [
    {
     "data": {
      "text/html": [
       "<style>#sk-container-id-4 {color: black;background-color: white;}#sk-container-id-4 pre{padding: 0;}#sk-container-id-4 div.sk-toggleable {background-color: white;}#sk-container-id-4 label.sk-toggleable__label {cursor: pointer;display: block;width: 100%;margin-bottom: 0;padding: 0.3em;box-sizing: border-box;text-align: center;}#sk-container-id-4 label.sk-toggleable__label-arrow:before {content: \"▸\";float: left;margin-right: 0.25em;color: #696969;}#sk-container-id-4 label.sk-toggleable__label-arrow:hover:before {color: black;}#sk-container-id-4 div.sk-estimator:hover label.sk-toggleable__label-arrow:before {color: black;}#sk-container-id-4 div.sk-toggleable__content {max-height: 0;max-width: 0;overflow: hidden;text-align: left;background-color: #f0f8ff;}#sk-container-id-4 div.sk-toggleable__content pre {margin: 0.2em;color: black;border-radius: 0.25em;background-color: #f0f8ff;}#sk-container-id-4 input.sk-toggleable__control:checked~div.sk-toggleable__content {max-height: 200px;max-width: 100%;overflow: auto;}#sk-container-id-4 input.sk-toggleable__control:checked~label.sk-toggleable__label-arrow:before {content: \"▾\";}#sk-container-id-4 div.sk-estimator input.sk-toggleable__control:checked~label.sk-toggleable__label {background-color: #d4ebff;}#sk-container-id-4 div.sk-label input.sk-toggleable__control:checked~label.sk-toggleable__label {background-color: #d4ebff;}#sk-container-id-4 input.sk-hidden--visually {border: 0;clip: rect(1px 1px 1px 1px);clip: rect(1px, 1px, 1px, 1px);height: 1px;margin: -1px;overflow: hidden;padding: 0;position: absolute;width: 1px;}#sk-container-id-4 div.sk-estimator {font-family: monospace;background-color: #f0f8ff;border: 1px dotted black;border-radius: 0.25em;box-sizing: border-box;margin-bottom: 0.5em;}#sk-container-id-4 div.sk-estimator:hover {background-color: #d4ebff;}#sk-container-id-4 div.sk-parallel-item::after {content: \"\";width: 100%;border-bottom: 1px solid gray;flex-grow: 1;}#sk-container-id-4 div.sk-label:hover label.sk-toggleable__label {background-color: #d4ebff;}#sk-container-id-4 div.sk-serial::before {content: \"\";position: absolute;border-left: 1px solid gray;box-sizing: border-box;top: 0;bottom: 0;left: 50%;z-index: 0;}#sk-container-id-4 div.sk-serial {display: flex;flex-direction: column;align-items: center;background-color: white;padding-right: 0.2em;padding-left: 0.2em;position: relative;}#sk-container-id-4 div.sk-item {position: relative;z-index: 1;}#sk-container-id-4 div.sk-parallel {display: flex;align-items: stretch;justify-content: center;background-color: white;position: relative;}#sk-container-id-4 div.sk-item::before, #sk-container-id-4 div.sk-parallel-item::before {content: \"\";position: absolute;border-left: 1px solid gray;box-sizing: border-box;top: 0;bottom: 0;left: 50%;z-index: -1;}#sk-container-id-4 div.sk-parallel-item {display: flex;flex-direction: column;z-index: 1;position: relative;background-color: white;}#sk-container-id-4 div.sk-parallel-item:first-child::after {align-self: flex-end;width: 50%;}#sk-container-id-4 div.sk-parallel-item:last-child::after {align-self: flex-start;width: 50%;}#sk-container-id-4 div.sk-parallel-item:only-child::after {width: 0;}#sk-container-id-4 div.sk-dashed-wrapped {border: 1px dashed gray;margin: 0 0.4em 0.5em 0.4em;box-sizing: border-box;padding-bottom: 0.4em;background-color: white;}#sk-container-id-4 div.sk-label label {font-family: monospace;font-weight: bold;display: inline-block;line-height: 1.2em;}#sk-container-id-4 div.sk-label-container {text-align: center;}#sk-container-id-4 div.sk-container {/* jupyter's `normalize.less` sets `[hidden] { display: none; }` but bootstrap.min.css set `[hidden] { display: none !important; }` so we also need the `!important` here to be able to override the default hidden behavior on the sphinx rendered scikit-learn.org. See: https://github.com/scikit-learn/scikit-learn/issues/21755 */display: inline-block !important;position: relative;}#sk-container-id-4 div.sk-text-repr-fallback {display: none;}</style><div id=\"sk-container-id-4\" class=\"sk-top-container\"><div class=\"sk-text-repr-fallback\"><pre>RandomizedSearchCV(cv=5, estimator=LogisticRegression(random_state=42),\n",
       "                   param_distributions={&#x27;C&#x27;: [0.001, 0.01, 0.1, 1, 10, 100,\n",
       "                                              1000],\n",
       "                                        &#x27;penalty&#x27;: [&#x27;l1&#x27;, &#x27;l2&#x27;]})</pre><b>In a Jupyter environment, please rerun this cell to show the HTML representation or trust the notebook. <br />On GitHub, the HTML representation is unable to render, please try loading this page with nbviewer.org.</b></div><div class=\"sk-container\" hidden><div class=\"sk-item sk-dashed-wrapped\"><div class=\"sk-label-container\"><div class=\"sk-label sk-toggleable\"><input class=\"sk-toggleable__control sk-hidden--visually\" id=\"sk-estimator-id-6\" type=\"checkbox\" ><label for=\"sk-estimator-id-6\" class=\"sk-toggleable__label sk-toggleable__label-arrow\">RandomizedSearchCV</label><div class=\"sk-toggleable__content\"><pre>RandomizedSearchCV(cv=5, estimator=LogisticRegression(random_state=42),\n",
       "                   param_distributions={&#x27;C&#x27;: [0.001, 0.01, 0.1, 1, 10, 100,\n",
       "                                              1000],\n",
       "                                        &#x27;penalty&#x27;: [&#x27;l1&#x27;, &#x27;l2&#x27;]})</pre></div></div></div><div class=\"sk-parallel\"><div class=\"sk-parallel-item\"><div class=\"sk-item\"><div class=\"sk-label-container\"><div class=\"sk-label sk-toggleable\"><input class=\"sk-toggleable__control sk-hidden--visually\" id=\"sk-estimator-id-7\" type=\"checkbox\" ><label for=\"sk-estimator-id-7\" class=\"sk-toggleable__label sk-toggleable__label-arrow\">estimator: LogisticRegression</label><div class=\"sk-toggleable__content\"><pre>LogisticRegression(random_state=42)</pre></div></div></div><div class=\"sk-serial\"><div class=\"sk-item\"><div class=\"sk-estimator sk-toggleable\"><input class=\"sk-toggleable__control sk-hidden--visually\" id=\"sk-estimator-id-8\" type=\"checkbox\" ><label for=\"sk-estimator-id-8\" class=\"sk-toggleable__label sk-toggleable__label-arrow\">LogisticRegression</label><div class=\"sk-toggleable__content\"><pre>LogisticRegression(random_state=42)</pre></div></div></div></div></div></div></div></div></div></div>"
      ],
      "text/plain": [
       "RandomizedSearchCV(cv=5, estimator=LogisticRegression(random_state=42),\n",
       "                   param_distributions={'C': [0.001, 0.01, 0.1, 1, 10, 100,\n",
       "                                              1000],\n",
       "                                        'penalty': ['l1', 'l2']})"
      ]
     },
     "execution_count": 144,
     "metadata": {},
     "output_type": "execute_result"
    }
   ],
   "source": [
    "from sklearn.linear_model import LogisticRegression\n",
    "\n",
    "grid_values = {'penalty': ['l1','l2'], \n",
    "               'C': [0.001,0.01,0.1,1,10,100,1000]}\n",
    "lr=LogisticRegression(random_state=42)\n",
    "lr_randomcv = RandomizedSearchCV(lr, param_distributions=grid_values, cv=5)\n",
    "#fit the randomized model\n",
    "lr_randomcv.fit(X_train,y_train)"
   ]
  },
  {
   "cell_type": "code",
   "execution_count": 145,
   "id": "e5067875-ed03-4f0c-9df0-b849f6e33d69",
   "metadata": {},
   "outputs": [
    {
     "name": "stdout",
     "output_type": "stream",
     "text": [
      "All results:\n",
      "{'mean_fit_time': array([0.08882051, 0.0197648 , 0.        , 0.06266456, 0.00322881,\n",
      "       0.088938  , 0.02232771, 0.01914845, 0.02749834, 0.        ]), 'std_fit_time': array([0.0127548 , 0.00682526, 0.        , 0.0116176 , 0.00645761,\n",
      "       0.00837887, 0.00903147, 0.0071678 , 0.00898453, 0.        ]), 'mean_score_time': array([0.00040226, 0.0054543 , 0.        , 0.        , 0.        ,\n",
      "       0.00317149, 0.00012422, 0.        , 0.        , 0.        ]), 'std_score_time': array([0.00080452, 0.00582998, 0.        , 0.        , 0.        ,\n",
      "       0.00634298, 0.00024843, 0.        , 0.        , 0.        ]), 'param_penalty': masked_array(data=['l2', 'l2', 'l1', 'l2', 'l1', 'l2', 'l2', 'l2', 'l2',\n",
      "                   'l1'],\n",
      "             mask=[False, False, False, False, False, False, False, False,\n",
      "                   False, False],\n",
      "       fill_value='?',\n",
      "            dtype=object), 'param_C': masked_array(data=[1000, 0.1, 0.1, 10, 0.01, 100, 0.001, 0.01, 1, 100],\n",
      "             mask=[False, False, False, False, False, False, False, False,\n",
      "                   False, False],\n",
      "       fill_value='?',\n",
      "            dtype=object), 'params': [{'penalty': 'l2', 'C': 1000}, {'penalty': 'l2', 'C': 0.1}, {'penalty': 'l1', 'C': 0.1}, {'penalty': 'l2', 'C': 10}, {'penalty': 'l1', 'C': 0.01}, {'penalty': 'l2', 'C': 100}, {'penalty': 'l2', 'C': 0.001}, {'penalty': 'l2', 'C': 0.01}, {'penalty': 'l2', 'C': 1}, {'penalty': 'l1', 'C': 100}], 'split0_test_score': array([0.98360656, 0.98360656,        nan, 0.98360656,        nan,\n",
      "       0.98360656, 0.75409836, 0.96721311, 0.98360656,        nan]), 'split1_test_score': array([0.98360656, 0.98360656,        nan, 0.98360656,        nan,\n",
      "       0.98360656, 0.78688525, 0.95081967, 0.96721311,        nan]), 'split2_test_score': array([0.96666667, 0.98333333,        nan, 0.96666667,        nan,\n",
      "       0.96666667, 0.76666667, 1.        , 0.96666667,        nan]), 'split3_test_score': array([0.93333333, 0.95      ,        nan, 0.93333333,        nan,\n",
      "       0.93333333, 0.73333333, 0.95      , 0.91666667,        nan]), 'split4_test_score': array([0.98333333, 1.        ,        nan, 0.98333333,        nan,\n",
      "       0.98333333, 0.75      , 1.        , 1.        ,        nan]), 'mean_test_score': array([0.97010929, 0.98010929,        nan, 0.97010929,        nan,\n",
      "       0.97010929, 0.75819672, 0.97360656, 0.9668306 ,        nan]), 'std_test_score': array([0.01951179, 0.01635277,        nan, 0.01951179,        nan,\n",
      "       0.01951179, 0.01787144, 0.0224081 , 0.02792216,        nan]), 'rank_test_score': array([3, 1, 8, 3, 8, 3, 7, 2, 6, 8])}\n"
     ]
    }
   ],
   "source": [
    "print('All results:')\n",
    "print(lr_randomcv.cv_results_)"
   ]
  },
  {
   "cell_type": "code",
   "execution_count": 146,
   "id": "57c536f8-f79f-4034-9c02-b7539b7bda3e",
   "metadata": {},
   "outputs": [
    {
     "name": "stdout",
     "output_type": "stream",
     "text": [
      "Best estimator:\n",
      "LogisticRegression(C=0.1, random_state=42)\n"
     ]
    }
   ],
   "source": [
    "print('Best estimator:')\n",
    "print(lr_randomcv.best_estimator_)"
   ]
  },
  {
   "cell_type": "code",
   "execution_count": 147,
   "id": "fa74e37e-0a85-41b0-8034-929b76e38cd2",
   "metadata": {},
   "outputs": [
    {
     "name": "stdout",
     "output_type": "stream",
     "text": [
      "Best hyperparameters:\n",
      "{'penalty': 'l2', 'C': 0.1}\n"
     ]
    }
   ],
   "source": [
    "print('Best hyperparameters:')\n",
    "print(lr_randomcv.best_params_)"
   ]
  },
  {
   "cell_type": "code",
   "execution_count": 148,
   "id": "e79e0d61-0e39-475a-b3b3-8aa708a25678",
   "metadata": {},
   "outputs": [
    {
     "data": {
      "text/html": [
       "<style>#sk-container-id-5 {color: black;background-color: white;}#sk-container-id-5 pre{padding: 0;}#sk-container-id-5 div.sk-toggleable {background-color: white;}#sk-container-id-5 label.sk-toggleable__label {cursor: pointer;display: block;width: 100%;margin-bottom: 0;padding: 0.3em;box-sizing: border-box;text-align: center;}#sk-container-id-5 label.sk-toggleable__label-arrow:before {content: \"▸\";float: left;margin-right: 0.25em;color: #696969;}#sk-container-id-5 label.sk-toggleable__label-arrow:hover:before {color: black;}#sk-container-id-5 div.sk-estimator:hover label.sk-toggleable__label-arrow:before {color: black;}#sk-container-id-5 div.sk-toggleable__content {max-height: 0;max-width: 0;overflow: hidden;text-align: left;background-color: #f0f8ff;}#sk-container-id-5 div.sk-toggleable__content pre {margin: 0.2em;color: black;border-radius: 0.25em;background-color: #f0f8ff;}#sk-container-id-5 input.sk-toggleable__control:checked~div.sk-toggleable__content {max-height: 200px;max-width: 100%;overflow: auto;}#sk-container-id-5 input.sk-toggleable__control:checked~label.sk-toggleable__label-arrow:before {content: \"▾\";}#sk-container-id-5 div.sk-estimator input.sk-toggleable__control:checked~label.sk-toggleable__label {background-color: #d4ebff;}#sk-container-id-5 div.sk-label input.sk-toggleable__control:checked~label.sk-toggleable__label {background-color: #d4ebff;}#sk-container-id-5 input.sk-hidden--visually {border: 0;clip: rect(1px 1px 1px 1px);clip: rect(1px, 1px, 1px, 1px);height: 1px;margin: -1px;overflow: hidden;padding: 0;position: absolute;width: 1px;}#sk-container-id-5 div.sk-estimator {font-family: monospace;background-color: #f0f8ff;border: 1px dotted black;border-radius: 0.25em;box-sizing: border-box;margin-bottom: 0.5em;}#sk-container-id-5 div.sk-estimator:hover {background-color: #d4ebff;}#sk-container-id-5 div.sk-parallel-item::after {content: \"\";width: 100%;border-bottom: 1px solid gray;flex-grow: 1;}#sk-container-id-5 div.sk-label:hover label.sk-toggleable__label {background-color: #d4ebff;}#sk-container-id-5 div.sk-serial::before {content: \"\";position: absolute;border-left: 1px solid gray;box-sizing: border-box;top: 0;bottom: 0;left: 50%;z-index: 0;}#sk-container-id-5 div.sk-serial {display: flex;flex-direction: column;align-items: center;background-color: white;padding-right: 0.2em;padding-left: 0.2em;position: relative;}#sk-container-id-5 div.sk-item {position: relative;z-index: 1;}#sk-container-id-5 div.sk-parallel {display: flex;align-items: stretch;justify-content: center;background-color: white;position: relative;}#sk-container-id-5 div.sk-item::before, #sk-container-id-5 div.sk-parallel-item::before {content: \"\";position: absolute;border-left: 1px solid gray;box-sizing: border-box;top: 0;bottom: 0;left: 50%;z-index: -1;}#sk-container-id-5 div.sk-parallel-item {display: flex;flex-direction: column;z-index: 1;position: relative;background-color: white;}#sk-container-id-5 div.sk-parallel-item:first-child::after {align-self: flex-end;width: 50%;}#sk-container-id-5 div.sk-parallel-item:last-child::after {align-self: flex-start;width: 50%;}#sk-container-id-5 div.sk-parallel-item:only-child::after {width: 0;}#sk-container-id-5 div.sk-dashed-wrapped {border: 1px dashed gray;margin: 0 0.4em 0.5em 0.4em;box-sizing: border-box;padding-bottom: 0.4em;background-color: white;}#sk-container-id-5 div.sk-label label {font-family: monospace;font-weight: bold;display: inline-block;line-height: 1.2em;}#sk-container-id-5 div.sk-label-container {text-align: center;}#sk-container-id-5 div.sk-container {/* jupyter's `normalize.less` sets `[hidden] { display: none; }` but bootstrap.min.css set `[hidden] { display: none !important; }` so we also need the `!important` here to be able to override the default hidden behavior on the sphinx rendered scikit-learn.org. See: https://github.com/scikit-learn/scikit-learn/issues/21755 */display: inline-block !important;position: relative;}#sk-container-id-5 div.sk-text-repr-fallback {display: none;}</style><div id=\"sk-container-id-5\" class=\"sk-top-container\"><div class=\"sk-text-repr-fallback\"><pre>LogisticRegression(C=1000)</pre><b>In a Jupyter environment, please rerun this cell to show the HTML representation or trust the notebook. <br />On GitHub, the HTML representation is unable to render, please try loading this page with nbviewer.org.</b></div><div class=\"sk-container\" hidden><div class=\"sk-item\"><div class=\"sk-estimator sk-toggleable\"><input class=\"sk-toggleable__control sk-hidden--visually\" id=\"sk-estimator-id-9\" type=\"checkbox\" checked><label for=\"sk-estimator-id-9\" class=\"sk-toggleable__label sk-toggleable__label-arrow\">LogisticRegression</label><div class=\"sk-toggleable__content\"><pre>LogisticRegression(C=1000)</pre></div></div></div></div></div>"
      ],
      "text/plain": [
       "LogisticRegression(C=1000)"
      ]
     },
     "execution_count": 148,
     "metadata": {},
     "output_type": "execute_result"
    }
   ],
   "source": [
    "from sklearn.linear_model import LogisticRegression\n",
    "lr = LogisticRegression(penalty = 'l2', C = 1000)\n",
    "lr.fit(X_train, y_train)"
   ]
  },
  {
   "cell_type": "code",
   "execution_count": 149,
   "id": "9a242179-4359-446f-92cb-774111e6a80c",
   "metadata": {},
   "outputs": [],
   "source": [
    "def model_report(y_act, y_pred):\n",
    "    from sklearn import metrics\n",
    "    from sklearn.metrics import accuracy_score, f1_score, precision_score, recall_score, cohen_kappa_score, roc_curve, auc, log_loss\n",
    "    print(\"Accuracy = \", accuracy_score(y_act, y_pred))\n",
    "    print(\"Precision = \" ,precision_score(y_act, y_pred))\n",
    "    print(\"Recall\\Sensitivity = \" ,recall_score(y_act, y_pred))\n",
    "    confusion = metrics.confusion_matrix(y_act, y_pred)\n",
    "    #[row, column]\n",
    "    TP = confusion[1, 1]\n",
    "    TN = confusion[0, 0]\n",
    "    FP = confusion[0, 1]\n",
    "    FN = confusion[1, 0]\n",
    "    specificity = TN / (TN + FP)\n",
    "    print(\"Specificity = \" ,specificity)\n",
    "    print(\"F1 Score = \" ,f1_score(y_act, y_pred))\n",
    "    false_positive_rate, true_positive_rate, thresholds = roc_curve(y_act, y_pred)\n",
    "    print(\"AUC Score =\", auc(false_positive_rate, true_positive_rate))\n",
    "    print(\"Kappa score = \",cohen_kappa_score(y_act,y_pred))\n",
    "    print(\"Log Loss = \" ,log_loss(y_act, y_pred),\"\\n\")\n",
    "    pass\n"
   ]
  },
  {
   "cell_type": "code",
   "execution_count": 150,
   "id": "d2338df2-8837-47b7-8dda-3bcce921e5c2",
   "metadata": {},
   "outputs": [
    {
     "name": "stdout",
     "output_type": "stream",
     "text": [
      "Accuracy =  1.0\n",
      "Precision =  1.0\n",
      "Recall\\Sensitivity =  1.0\n",
      "Specificity =  1.0\n",
      "F1 Score =  1.0\n",
      "AUC Score = 1.0\n",
      "Kappa score =  1.0\n",
      "Log Loss =  2.2204460492503136e-16 \n",
      "\n"
     ]
    }
   ],
   "source": [
    "y_pred_lr = lr.predict(X_test)\n",
    "model_report(y_test, y_pred_lr)"
   ]
  },
  {
   "cell_type": "code",
   "execution_count": 151,
   "id": "df5866ee-db89-4423-9d1f-8f19334af712",
   "metadata": {},
   "outputs": [
    {
     "data": {
      "image/png": "[encoded data removed]",
      "text/plain": [
       "<Figure size 640x480 with 1 Axes>"
      ]
     },
     "metadata": {},
     "output_type": "display_data"
    }
   ],
   "source": [
    "title = \"Learning Curves (LogisticRegression)\"                                        # fill this in\n",
    "cv = ShuffleSplit(n_splits=5, test_size=0.2, random_state=42)\n",
    "lr = LogisticRegression(penalty = 'l2', C = 1000)                            # fill this in\n",
    "plot_learning_curve(lr, title, X, y, ylim=(0.2, 1.25), cv=cv, n_jobs=4)\n",
    "plt.savefig('LR_curve.pdf', transparent=True, dpi=300)\n",
    "plt.show()"
   ]
  },
  {
   "cell_type": "code",
   "execution_count": 152,
   "id": "20815b54-31ea-4f92-b74c-81cb0cc99ddb",
   "metadata": {},
   "outputs": [
    {
     "data": {
      "image/png": "[encoded data removed]",
      "text/plain": [
       "<Figure size 1000x800 with 2 Axes>"
      ]
     },
     "metadata": {},
     "output_type": "display_data"
    }
   ],
   "source": [
    "from sklearn.metrics import confusion_matrix\n",
    "\n",
    "cm = confusion_matrix(y_test, y_pred_lr)\n",
    "plt.figure(figsize=(10, 8))\n",
    "ax = sns.heatmap(cm, cmap=plt.cm.Greens, annot=True, square=True, annot_kws={\"size\": 25})\n",
    "plt.title('Confusion Matrix', fontsize=20)\n",
    "ax.set_ylabel('Actual Label', fontsize=20)\n",
    "ax.set_xlabel('Predicted Label', fontsize=20)\n",
    "plt.savefig('LR_confusion.pdf', transparent=True, dpi=300)"
   ]
  },
  {
   "cell_type": "code",
   "execution_count": 153,
   "id": "e9079d40-18f5-40a4-92f7-c9aae586ee6d",
   "metadata": {},
   "outputs": [],
   "source": [
    "from sklearn.metrics import roc_curve\n",
    "fpr_LR, tpr_LR, thresholds_LR = roc_curve(y_test, y_pred_lr)"
   ]
  },
  {
   "cell_type": "code",
   "execution_count": 154,
   "id": "36312605-c97b-4134-8d52-ef93703bc44f",
   "metadata": {},
   "outputs": [],
   "source": [
    "from sklearn.metrics import auc\n",
    "roc_auc_LR = auc(fpr_LR, tpr_LR)"
   ]
  },
  {
   "cell_type": "code",
   "execution_count": 155,
   "id": "40b568e8-f1bd-49ec-8323-8b257dd71830",
   "metadata": {},
   "outputs": [
    {
     "data": {
      "image/png": "[encoded data removed]",
      "text/plain": [
       "<Figure size 700x500 with 1 Axes>"
      ]
     },
     "metadata": {},
     "output_type": "display_data"
    }
   ],
   "source": [
    "from sklearn.metrics import roc_curve\n",
    "from sklearn.metrics import auc\n",
    "\n",
    "# Compute fpr, tpr, thresholds and roc auc\n",
    "plt.figure(figsize = (7, 5))\n",
    "plt.plot(fpr_LR, tpr_LR, label='LR ROC curve (area = %0.3f)' % roc_auc_LR)\n",
    "plt.plot([0, 1], [0, 1], 'k--')\n",
    "plt.xlabel('False Positive Rate')\n",
    "plt.ylabel('True Positive Rate')\n",
    "plt.title('Receiver Operating Characteristic for 80%-20% Splitting')\n",
    "plt.legend(loc=\"lower right\")\n",
    "plt.savefig('all_roc.pdf', transparent=True, dpi=300)\n",
    "plt.show()"
   ]
  },
  {
   "cell_type": "code",
   "execution_count": 156,
   "id": "b58b42db-1d9b-45fe-b843-c99cb2cc50bd",
   "metadata": {},
   "outputs": [],
   "source": [
    "# import joblib\n",
    "# joblib.dump(lr, 'lr_model_for_adult.pkl')"
   ]
  },
  {
   "cell_type": "code",
   "execution_count": 157,
   "id": "7807adcc-91cf-4137-b887-bd6b1ee021ca",
   "metadata": {},
   "outputs": [
    {
     "name": "stdout",
     "output_type": "stream",
     "text": [
      "Number of Selected Features: 75\n",
      "Selected Feature Names: Index(['A1_Score', 'A2_Score', 'A3_Score', 'A4_Score', 'A5_Score', 'A6_Score',\n",
      "       'A7_Score', 'A8_Score', 'A9_Score', 'A10_Score', 'Age_Mons', 'result',\n",
      "       'gender_f', 'gender_m', 'ethnicity_Asian', 'ethnicity_Black',\n",
      "       'ethnicity_Hispanic', 'ethnicity_Latino', 'ethnicity_Middle Eastern ',\n",
      "       'ethnicity_Pasifika', 'ethnicity_South Asian', 'ethnicity_Turkish',\n",
      "       'ethnicity_White-European', 'jundice_yes', 'austim_no', 'austim_yes',\n",
      "       'contry_of_res_Afghanistan', 'contry_of_res_Angola',\n",
      "       'contry_of_res_Armenia', 'contry_of_res_Australia',\n",
      "       'contry_of_res_Austria', 'contry_of_res_Azerbaijan',\n",
      "       'contry_of_res_Bangladesh', 'contry_of_res_Brazil',\n",
      "       'contry_of_res_Canada', 'contry_of_res_Chile', 'contry_of_res_China',\n",
      "       'contry_of_res_Cyprus', 'contry_of_res_Czech Republic',\n",
      "       'contry_of_res_Egypt', 'contry_of_res_Ethiopia',\n",
      "       'contry_of_res_Finland', 'contry_of_res_France',\n",
      "       'contry_of_res_Germany', 'contry_of_res_Hong Kong',\n",
      "       'contry_of_res_India', 'contry_of_res_Indonesia', 'contry_of_res_Iran',\n",
      "       'contry_of_res_Ireland', 'contry_of_res_Italy', 'contry_of_res_Jordan',\n",
      "       'contry_of_res_Malaysia', 'contry_of_res_Mexico', 'contry_of_res_Nepal',\n",
      "       'contry_of_res_Netherlands', 'contry_of_res_New Zealand',\n",
      "       'contry_of_res_Oman', 'contry_of_res_Pakistan',\n",
      "       'contry_of_res_Philippines', 'contry_of_res_Saudi Arabia',\n",
      "       'contry_of_res_Sierra Leone', 'contry_of_res_South Africa',\n",
      "       'contry_of_res_Spain', 'contry_of_res_Sri Lanka',\n",
      "       'contry_of_res_Sweden', 'contry_of_res_Turkey', 'contry_of_res_Ukraine',\n",
      "       'contry_of_res_United Arab Emirates', 'contry_of_res_United Kingdom',\n",
      "       'contry_of_res_United States', 'contry_of_res_Uruguay',\n",
      "       'contry_of_res_Viet Nam', 'relation_Health care professional',\n",
      "       'relation_Others', 'relation_Parent'],\n",
      "      dtype='object')\n"
     ]
    }
   ],
   "source": [
    "# Getting selected feature names\n",
    "selected_features = chi2_features.get_support(indices=True)\n",
    "selected_feature_names = features.columns[selected_features]\n",
    "print(\"Number of Selected Features:\", len(selected_feature_names))\n",
    "print(\"Selected Feature Names:\", selected_feature_names)"
   ]
  },
  {
   "cell_type": "code",
   "execution_count": 205,
   "id": "fa68c3b7-2cc6-4528-8b7d-37388a3a45d8",
   "metadata": {},
   "outputs": [],
   "source": [
    "hello = ['contry_of_res_Afghanistan', 'contry_of_res_Angola',\n",
    "       'contry_of_res_Armenia', 'contry_of_res_Australia',\n",
    "       'contry_of_res_Austria', 'contry_of_res_Azerbaijan',\n",
    "       'contry_of_res_Bangladesh', 'contry_of_res_Brazil',\n",
    "       'contry_of_res_Canada', 'contry_of_res_Chile', 'contry_of_res_China',\n",
    "       'contry_of_res_Cyprus', 'contry_of_res_Czech Republic',\n",
    "       'contry_of_res_Egypt', 'contry_of_res_Ethiopia',\n",
    "       'contry_of_res_Finland', 'contry_of_res_France',\n",
    "       'contry_of_res_Germany', 'contry_of_res_Hong Kong',\n",
    "       'contry_of_res_India', 'contry_of_res_Indonesia', 'contry_of_res_Iran',\n",
    "       'contry_of_res_Ireland', 'contry_of_res_Italy', 'contry_of_res_Jordan',\n",
    "       'contry_of_res_Malaysia', 'contry_of_res_Mexico', 'contry_of_res_Nepal',\n",
    "       'contry_of_res_Netherlands', 'contry_of_res_New Zealand',\n",
    "       'contry_of_res_Oman', 'contry_of_res_Pakistan',\n",
    "       'contry_of_res_Philippines', 'contry_of_res_Saudi Arabia',\n",
    "       'contry_of_res_Sierra Leone', 'contry_of_res_South Africa',\n",
    "       'contry_of_res_Spain', 'contry_of_res_Sri Lanka',\n",
    "       'contry_of_res_Sweden', 'contry_of_res_Turkey', 'contry_of_res_Ukraine',\n",
    "       'contry_of_res_United Arab Emirates', 'contry_of_res_United Kingdom',\n",
    "       'contry_of_res_United States', 'contry_of_res_Uruguay',\n",
    "       'contry_of_res_Viet Nam']"
   ]
  },
  {
   "cell_type": "code",
   "execution_count": 207,
   "id": "4f7be019-dbf3-4730-a96b-e0e71f2cfefe",
   "metadata": {},
   "outputs": [
    {
     "data": {
      "text/plain": [
       "46"
      ]
     },
     "execution_count": 207,
     "metadata": {},
     "output_type": "execute_result"
    }
   ],
   "source": [
    "len(hello)"
   ]
  },
  {
   "cell_type": "code",
   "execution_count": null,
   "id": "84ddeb80-07dd-484e-8971-f87162b03a98",
   "metadata": {},
   "outputs": [],
   "source": []
  }
 ],
 "metadata": {
  "kernelspec": {
   "display_name": "Python 3 (ipykernel)",
   "language": "python",
   "name": "python3"
  },
  "language_info": {
   "codemirror_mode": {
    "name": "ipython",
    "version": 3
   },
   "file_extension": ".py",
   "mimetype": "text/x-python",
   "name": "python",
   "nbconvert_exporter": "python",
   "pygments_lexer": "ipython3",
   "version": "3.11.7"
  }
 },
 "nbformat": 4,
 "nbformat_minor": 5
}
